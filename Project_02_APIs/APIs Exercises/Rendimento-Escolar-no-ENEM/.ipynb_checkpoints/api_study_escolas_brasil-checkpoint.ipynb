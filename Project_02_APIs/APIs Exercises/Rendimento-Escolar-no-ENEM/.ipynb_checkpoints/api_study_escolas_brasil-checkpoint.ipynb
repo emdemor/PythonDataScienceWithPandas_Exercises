{
 "cells": [
  {
   "cell_type": "markdown",
   "metadata": {},
   "source": [
    "# Escolas do Brasil"
   ]
  },
  {
   "cell_type": "code",
   "execution_count": 1,
   "metadata": {},
   "outputs": [],
   "source": [
    "import pandas as pd\n",
    "import requests\n",
    "from getpass import getpass\n",
    "import matplotlib.pyplot as plt\n",
    "import numpy as np\n",
    "from tqdm import tqdm\n",
    "    \n",
    "pd.options.display.max_columns = 30"
   ]
  },
  {
   "cell_type": "code",
   "execution_count": 2,
   "metadata": {},
   "outputs": [],
   "source": [
    "# I dont know why, but this is the only way it worked to me\n",
    "url = 'http://educacao.dadosabertosbr.com/api/escolas/buscaavancada?situacaoFuncionamento=1&energiaInexistente=on'\n",
    "data = requests.get(url)\n",
    "\n",
    "url = 'http://educacao.dadosabertosbr.com/api/escolas/buscaavancada?situacaoFuncionamento=1'\n",
    "data = requests.get(url)\n",
    "\n",
    "\n",
    "#df = pd.DataFrame(data.json())\n",
    "#df"
   ]
  },
  {
   "cell_type": "markdown",
   "metadata": {},
   "source": [
    "# Importando Dados da API"
   ]
  },
  {
   "cell_type": "code",
   "execution_count": 2,
   "metadata": {},
   "outputs": [],
   "source": [
    "def request_state(estado):   \n",
    "    #estado = 'mg'\n",
    "    url = 'http://educacao.dadosabertosbr.com/api/cidades/'+estado\n",
    "    data = requests.get(url)\n",
    "    lista_cidades_cod = list(map(lambda string: string.split(':'),data.json()))\n",
    "    \n",
    "    ini = 0;\n",
    "    fim = -1;\n",
    "    file_name = 'school_dataset_'+estado+'.csv'\n",
    "    \n",
    "    error_list = []\n",
    "    #wrong_cities = {'cidade':[],'codigo':[]};\n",
    "    \n",
    "    cid_code = lista_cidades_cod[0][0]\n",
    "    url = 'http://educacao.dadosabertosbr.com/api/escolas/buscaavancada?situacaoFuncionamento=1&cidade='+cid_code\n",
    "    \n",
    "    \n",
    "    try:\n",
    "        data = requests.get(url,timeout=2)\n",
    "    except:\n",
    "        try:\n",
    "            data = requests.get(url,timeout=2) \n",
    "        except:\n",
    "            try:\n",
    "                data = requests.get(url,timeout=2) \n",
    "            except:\n",
    "                error_list.append(lista_cidades_cod[0])\n",
    "        \n",
    "    try:\n",
    "        df_city = pd.DataFrame(data.json()[1])\n",
    "        #file_name = lista_cidades_cod[0][1]+'-'+lista_cidades_cod[0][0]+'.csv'\n",
    "        df_city.to_csv(r'dados_escolares_cidades/'+file_name, index = False)\n",
    "        \n",
    "    except ValueError:\n",
    "        print('JSON parse failed.')\n",
    "         \n",
    "    \n",
    "    # Looping through cities\n",
    "        \n",
    "    for cid in tqdm([elem for elem in lista_cidades_cod[ini:fim]]):\n",
    "        cid_code = cid[0]\n",
    "        url = 'http://educacao.dadosabertosbr.com/api/escolas/buscaavancada?situacaoFuncionamento=1&cidade='+cid_code\n",
    "        #file_name = cid[1]+'-'+cid[0]+'.csv'\n",
    "    \n",
    "        \n",
    "        try:\n",
    "            data = requests.get(url,timeout=2)\n",
    "        except:\n",
    "            try:\n",
    "                data = requests.get(url,timeout=2) \n",
    "            except:\n",
    "                try:\n",
    "                    data = requests.get(url,timeout=2) \n",
    "                except:\n",
    "                    error_list.append(cid)    \n",
    "    \n",
    "        try:\n",
    "            df_city_2 = pd.DataFrame(data.json()[1])\n",
    "            df_city_2.to_csv(r'dados_escolares_cidades/'+file_name, index = False, mode='a', header=False)\n",
    "            \n",
    "            #df_city = df_city.append(df_city_2).reset_index(drop=True)\n",
    "            \n",
    "        except ValueError:\n",
    "            print('JSON parse failed.')\n",
    "            \n",
    "    return error_list\n"
   ]
  },
  {
   "cell_type": "markdown",
   "metadata": {},
   "source": [
    "   # Rendimento no Enem"
   ]
  },
  {
   "cell_type": "code",
   "execution_count": null,
   "metadata": {},
   "outputs": [],
   "source": [
    "results_direc = 'dados_escolares_cidades'"
   ]
  },
  {
   "cell_type": "code",
   "execution_count": 3,
   "metadata": {},
   "outputs": [],
   "source": [
    "\n",
    "try:\n",
    "    # getting all states from IBGE API\n",
    "    data = requests.get('https://servicodados.ibge.gov.br/api/v1/localidades/estados')\n",
    "    states_list = pd.DataFrame(data.json())['sigla'].str.lower().to_list()\n",
    "    df_status = pd.read_csv('dados_escolares_cidades/states_status_ok.csv') \n",
    "    STATUS_OK = True\n",
    "    \n",
    "except:\n",
    "    STATUS_OK = False"
   ]
  },
  {
   "cell_type": "code",
   "execution_count": 6,
   "metadata": {},
   "outputs": [],
   "source": [
    "error_list_states = []\n",
    "if STATUS_OK:\n",
    "    #for state in states_list if state not in df_status['state'].tolist():\n",
    "    for state in states_list:   \n",
    "        if not (state in df_status['state'].tolist()):\n",
    "            print(\"state: \",state)\n",
    "            error_list = request_state(state)\n",
    "            error_list_states.append(error_list)\n",
    "            if len(error_list)==0:\n",
    "                with open('dados_escolares_cidades/states_status_ok.csv','a') as fd:\n",
    "                    fd.write(state+'\\n')\n"
   ]
  },
  {
   "cell_type": "code",
   "execution_count": 4,
   "metadata": {},
   "outputs": [
    {
     "data": {
      "text/plain": [
       "['ac',\n",
       " 'am',\n",
       " 'mg',\n",
       " 'rj',\n",
       " 'ro',\n",
       " 'rr',\n",
       " 'rs',\n",
       " 'sp',\n",
       " 'pa',\n",
       " 'ap',\n",
       " 'to',\n",
       " 'ma',\n",
       " 'pi',\n",
       " 'ce',\n",
       " 'rn',\n",
       " 'pb',\n",
       " 'pe',\n",
       " 'rn',\n",
       " 'pb',\n",
       " 'pe',\n",
       " 'al',\n",
       " 'se',\n",
       " 'ba',\n",
       " 'es',\n",
       " 'pr',\n",
       " 'sc',\n",
       " 'ms',\n",
       " 'mt',\n",
       " 'go',\n",
       " 'df',\n",
       " 'rn']"
      ]
     },
     "execution_count": 4,
     "metadata": {},
     "output_type": "execute_result"
    }
   ],
   "source": [
    "df_status['state'].tolist()"
   ]
  },
  {
   "cell_type": "code",
   "execution_count": 5,
   "metadata": {},
   "outputs": [
    {
     "name": "stderr",
     "output_type": "stream",
     "text": [
      "100%|██████████| 14/14 [00:11<00:00,  1.22it/s]\n"
     ]
    }
   ],
   "source": [
    "states = 'rr'\n",
    "direc ='dados_escolares_cidades';\n",
    "error_list = request_state(state)"
   ]
  },
  {
   "cell_type": "code",
   "execution_count": 26,
   "metadata": {},
   "outputs": [
    {
     "data": {
      "text/plain": [
       "[]"
      ]
     },
     "execution_count": 26,
     "metadata": {},
     "output_type": "execute_result"
    }
   ],
   "source": [
    "error_list"
   ]
  },
  {
   "cell_type": "markdown",
   "metadata": {},
   "source": [
    "# Interpretando Dados"
   ]
  },
  {
   "cell_type": "code",
   "execution_count": 15,
   "metadata": {},
   "outputs": [],
   "source": []
  },
  {
   "cell_type": "code",
   "execution_count": 29,
   "metadata": {},
   "outputs": [
    {
     "data": {
      "image/png": "[encoded data removed]",
      "text/plain": [
       "<Figure size 432x288 with 1 Axes>"
      ]
     },
     "metadata": {
      "needs_background": "light"
     },
     "output_type": "display_data"
    }
   ],
   "source": [
    "state = 'rs'\n",
    "direc ='dados_escolares_cidades';\n",
    "df_esc = pd.read_csv(direc+'/school_dataset_'+state+'.csv')\n",
    "\n",
    "conditions = True;\n",
    "conditions &= df_esc['enemMediaGeral'] > 0\n",
    "\n",
    "df_pri = df_esc[conditions & (df_esc['dependenciaAdministrativaTxt'] == 'Privada')]\n",
    "df_pub = df_esc[conditions & ((df_esc['dependenciaAdministrativaTxt'] == 'Estadual') | (df_esc['dependenciaAdministrativaTxt'] == 'Municipal'))]\n",
    "\n",
    "plt.hist([df_pri['enemMediaGeral'],df_pub['enemMediaGeral']],\n",
    "         rwidth=3,\n",
    "         bins=40,\n",
    "         density=True,\n",
    "         histtype='stepfilled', alpha=0.7, label=['Privadas','Públicas'])\n",
    "\n",
    "plt.title(\"Pontuação média das escolas no ENEM (\"+state.upper()+\")\");\n",
    "plt.xlabel('Média no ENEM')\n",
    "plt.legend()\n",
    "\n",
    "plt.savefig('comp_pont_ENEM_'+state+'.png', bbox_inches='tight')\n",
    "\n"
   ]
  },
  {
   "cell_type": "code",
   "execution_count": 21,
   "metadata": {
    "scrolled": true
   },
   "outputs": [
    {
     "data": {
      "image/png": "[encoded data removed]",
      "text/plain": [
       "<Figure size 432x288 with 1 Axes>"
      ]
     },
     "metadata": {
      "needs_background": "light"
     },
     "output_type": "display_data"
    }
   ],
   "source": [
    "\n",
    "\n"
   ]
  },
  {
   "cell_type": "code",
   "execution_count": 20,
   "metadata": {},
   "outputs": [
    {
     "data": {
      "text/plain": [
       "'FGDFGDFBF'"
      ]
     },
     "execution_count": 20,
     "metadata": {},
     "output_type": "execute_result"
    }
   ],
   "source": [
    "'fgdfgdfbf'.upper()"
   ]
  },
  {
   "cell_type": "markdown",
   "metadata": {},
   "source": [
    "# Escolas em cada estado"
   ]
  },
  {
   "cell_type": "code",
   "execution_count": 44,
   "metadata": {
    "scrolled": false
   },
   "outputs": [
    {
     "name": "stderr",
     "output_type": "stream",
     "text": [
      "100%|██████████| 79/79 [00:42<00:00,  1.85it/s]\n"
     ]
    }
   ],
   "source": [
    "import requests\n",
    "import eventlet\n",
    "from tqdm import tqdm\n",
    "\n",
    "estado = 'mg'\n",
    "url = 'http://educacao.dadosabertosbr.com/api/cidades/'+estado\n",
    "data = requests.get(url)\n",
    "lista_cidades_cod = list(map(lambda string: string.split(':'),data.json()))\n",
    "\n",
    "ini = 121;\n",
    "fim = 200;\n",
    "\n",
    "error_list = []\n",
    "#wrong_cities = {'cidade':[],'codigo':[]};\n",
    "\n",
    "cid_code = lista_cidades_cod[0][0]\n",
    "url = 'http://educacao.dadosabertosbr.com/api/escolas/buscaavancada?situacaoFuncionamento=1&cidade='+cid_code\n",
    "\n",
    "\n",
    "try:\n",
    "    data = requests.get(url,timeout=2)\n",
    "    \n",
    "except (requests.ConnectionError,\n",
    "        requests.RequestException,\n",
    "        requests.HTTPError,\n",
    "        requests.Timeout,\n",
    "        requests.TooManyRedirects) as e:\n",
    "    #print(str(e))\n",
    "    #print('Erro: '+url)\n",
    "    #wrong_cities['cidade'].append(lista_cidades_cod[0][1])\n",
    "    #wrong_cities['codigo'].append(lista_cidades_cod[0][0])\n",
    "    error_list.append(lista_cidades_cod[0])\n",
    "    \n",
    "try:\n",
    "    df_city = pd.DataFrame(data.json()[1])\n",
    "    file_name = lista_cidades_cod[0][1]+'-'+lista_cidades_cod[0][0]+'.csv'\n",
    "    df_city.to_csv(r'dados_escolares_cidades/'+file_name, index = False)\n",
    "    \n",
    "except ValueError:\n",
    "    print('JSON parse failed.')\n",
    "     \n",
    "\n",
    "# Looping through cities\n",
    "    \n",
    "for cid in tqdm([elem for elem in lista_cidades_cod[ini:fim]]):\n",
    "    cid_code = cid[0]\n",
    "    url = 'http://educacao.dadosabertosbr.com/api/escolas/buscaavancada?situacaoFuncionamento=1&cidade='+cid_code\n",
    "    file_name = cid[1]+'-'+cid[0]+'.csv'\n",
    "       \n",
    "    try:\n",
    "        data = requests.get(url,timeout=2)\n",
    "        \n",
    "    except (requests.ConnectionError,\n",
    "            requests.RequestException,\n",
    "            requests.HTTPError,\n",
    "            requests.Timeout,\n",
    "            requests.TooManyRedirects) as e:\n",
    "        #print(str(e))\n",
    "        #print('Erro: '+url)\n",
    "        #error_lists.append(cid)\n",
    "        #wrong_cities['cidade'].append(cid[1])\n",
    "        #wrong_cities['codigo'].append(cid[0])\n",
    "        error_list.append(cid)\n",
    "    try:\n",
    "        df_city_2 = pd.DataFrame(data.json()[1])\n",
    "        df_city_2.to_csv(r'dados_escolares_cidades/'+file_name, index = False)\n",
    "        df_city = df_city.append(df_city_2).reset_index(drop=True)\n",
    "    except ValueError:\n",
    "        print('JSON parse failed.')\n",
    "\n",
    "        \n"
   ]
  },
  {
   "cell_type": "code",
   "execution_count": 45,
   "metadata": {
    "scrolled": false
   },
   "outputs": [
    {
     "data": {
      "text/html": [
       "<div>\n",
       "<style scoped>\n",
       "    .dataframe tbody tr th:only-of-type {\n",
       "        vertical-align: middle;\n",
       "    }\n",
       "\n",
       "    .dataframe tbody tr th {\n",
       "        vertical-align: top;\n",
       "    }\n",
       "\n",
       "    .dataframe thead th {\n",
       "        text-align: right;\n",
       "    }\n",
       "</style>\n",
       "<table border=\"1\" class=\"dataframe\">\n",
       "  <thead>\n",
       "    <tr style=\"text-align: right;\">\n",
       "      <th></th>\n",
       "      <th>cidade</th>\n",
       "      <th>codigo</th>\n",
       "    </tr>\n",
       "  </thead>\n",
       "  <tbody>\n",
       "    <tr>\n",
       "      <th>0</th>\n",
       "      <td>3112802</td>\n",
       "      <td>CAPITOLIO</td>\n",
       "    </tr>\n",
       "    <tr>\n",
       "      <th>1</th>\n",
       "      <td>3113701</td>\n",
       "      <td>CARLOS CHAGAS</td>\n",
       "    </tr>\n",
       "    <tr>\n",
       "      <th>2</th>\n",
       "      <td>3113909</td>\n",
       "      <td>CARMO DA CACHOEIRA</td>\n",
       "    </tr>\n",
       "    <tr>\n",
       "      <th>3</th>\n",
       "      <td>3114709</td>\n",
       "      <td>CARVALHOPOLIS</td>\n",
       "    </tr>\n",
       "    <tr>\n",
       "      <th>4</th>\n",
       "      <td>3114808</td>\n",
       "      <td>CARVALHOS</td>\n",
       "    </tr>\n",
       "  </tbody>\n",
       "</table>\n",
       "</div>"
      ],
      "text/plain": [
       "    cidade              codigo\n",
       "0  3112802           CAPITOLIO\n",
       "1  3113701       CARLOS CHAGAS\n",
       "2  3113909  CARMO DA CACHOEIRA\n",
       "3  3114709       CARVALHOPOLIS\n",
       "4  3114808           CARVALHOS"
      ]
     },
     "execution_count": 45,
     "metadata": {},
     "output_type": "execute_result"
    }
   ],
   "source": [
    "\n",
    "df_wrong = pd.DataFrame({'cidade':[elem[0] for elem in error_list],\n",
    "                         'codigo':[elem[1] for elem in error_list]},\n",
    "                        columns = ['cidade','codigo'])\n",
    "\n",
    "df_wrong \n"
   ]
  },
  {
   "cell_type": "code",
   "execution_count": 10,
   "metadata": {},
   "outputs": [],
   "source": [
    "def request_state(estado):   \n",
    "    #estado = 'mg'\n",
    "    url = 'http://educacao.dadosabertosbr.com/api/cidades/'+estado\n",
    "    data = requests.get(url)\n",
    "    lista_cidades_cod = list(map(lambda string: string.split(':'),data.json()))\n",
    "    \n",
    "    ini = 0;\n",
    "    fim = -1;\n",
    "    file_name = 'school_dataset_'+estado+'.csv'\n",
    "    \n",
    "    error_list = []\n",
    "    #wrong_cities = {'cidade':[],'codigo':[]};\n",
    "    \n",
    "    cid_code = lista_cidades_cod[0][0]\n",
    "    url = 'http://educacao.dadosabertosbr.com/api/escolas/buscaavancada?situacaoFuncionamento=1&cidade='+cid_code\n",
    "    \n",
    "    \n",
    "    try:\n",
    "        data = requests.get(url,timeout=2)\n",
    "    except:\n",
    "        try:\n",
    "            data = requests.get(url,timeout=2) \n",
    "        except:\n",
    "            try:\n",
    "                data = requests.get(url,timeout=2) \n",
    "            except:\n",
    "                error_list.append(lista_cidades_cod[0])\n",
    "        \n",
    "    try:\n",
    "        df_city = pd.DataFrame(data.json()[1])\n",
    "        #file_name = lista_cidades_cod[0][1]+'-'+lista_cidades_cod[0][0]+'.csv'\n",
    "        df_city.to_csv(r'dados_escolares_cidades/'+file_name, index = False)\n",
    "        \n",
    "    except ValueError:\n",
    "        print('JSON parse failed.')\n",
    "         \n",
    "    \n",
    "    # Looping through cities\n",
    "        \n",
    "    for cid in tqdm([elem for elem in lista_cidades_cod[ini:fim]]):\n",
    "        cid_code = cid[0]\n",
    "        url = 'http://educacao.dadosabertosbr.com/api/escolas/buscaavancada?situacaoFuncionamento=1&cidade='+cid_code\n",
    "        #file_name = cid[1]+'-'+cid[0]+'.csv'\n",
    "    \n",
    "        \n",
    "        try:\n",
    "            data = requests.get(url,timeout=2)\n",
    "        except:\n",
    "            try:\n",
    "                data = requests.get(url,timeout=2) \n",
    "            except:\n",
    "                try:\n",
    "                    data = requests.get(url,timeout=2) \n",
    "                except:\n",
    "                    error_list.append(cid)    \n",
    "    \n",
    "        try:\n",
    "            df_city_2 = pd.DataFrame(data.json()[1])\n",
    "            df_city_2.to_csv(r'dados_escolares_cidades/'+file_name, index = False, mode='a', header=False)\n",
    "            \n",
    "            #df_city = df_city.append(df_city_2).reset_index(drop=True)\n",
    "            \n",
    "        except ValueError:\n",
    "            print('JSON parse failed.')\n",
    "            \n",
    "    return error_list\n",
    "    \n",
    "            "
   ]
  },
  {
   "cell_type": "code",
   "execution_count": 11,
   "metadata": {},
   "outputs": [
    {
     "name": "stderr",
     "output_type": "stream",
     "text": [
      "100%|██████████| 21/21 [00:14<00:00,  1.48it/s]\n"
     ]
    }
   ],
   "source": [
    "error_list = request_state('ac')"
   ]
  },
  {
   "cell_type": "code",
   "execution_count": 12,
   "metadata": {},
   "outputs": [
    {
     "data": {
      "text/plain": [
       "[]"
      ]
     },
     "execution_count": 12,
     "metadata": {},
     "output_type": "execute_result"
    }
   ],
   "source": [
    "error_list"
   ]
  },
  {
   "cell_type": "code",
   "execution_count": 49,
   "metadata": {},
   "outputs": [
    {
     "name": "stderr",
     "output_type": "stream",
     "text": [
      "0it [00:00, ?it/s]\n"
     ]
    }
   ],
   "source": [
    "lista_cidades_cod = error_list\n",
    "\n",
    "error_list = []\n",
    "#wrong_cities = {'cidade':[],'codigo':[]};\n",
    "\n",
    "cid_code = lista_cidades_cod[0][0]\n",
    "url = 'http://educacao.dadosabertosbr.com/api/escolas/buscaavancada?situacaoFuncionamento=1&cidade='+cid_code\n",
    "\n",
    "\n",
    "try:\n",
    "    data = requests.get(url,timeout=2)\n",
    "    \n",
    "except (requests.ConnectionError,\n",
    "        requests.RequestException,\n",
    "        requests.HTTPError,\n",
    "        requests.Timeout,\n",
    "        requests.TooManyRedirects) as e:\n",
    "    #print(str(e))\n",
    "    #print('Erro: '+url)\n",
    "    #wrong_cities['cidade'].append(lista_cidades_cod[0][1])\n",
    "    #wrong_cities['codigo'].append(lista_cidades_cod[0][0])\n",
    "    error_list.append(lista_cidades_cod[0])\n",
    "    \n",
    "try:\n",
    "    df_city = pd.DataFrame(data.json()[1])\n",
    "    file_name = lista_cidades_cod[0][1]+'-'+lista_cidades_cod[0][0]+'.csv'\n",
    "    df_city.to_csv(r'dados_escolares_cidades/'+file_name, index = False)\n",
    "    \n",
    "except ValueError:\n",
    "    print('JSON parse failed.')\n",
    "     \n",
    "\n",
    "# Looping through cities\n",
    "    \n",
    "for cid in tqdm([elem for elem in lista_cidades_cod[1:-1]]):\n",
    "    cid_code = cid[0]\n",
    "    url = 'http://educacao.dadosabertosbr.com/api/escolas/buscaavancada?situacaoFuncionamento=1&cidade='+cid_code\n",
    "    file_name = cid[1]+'-'+cid[0]+'.csv'\n",
    "       \n",
    "    try:\n",
    "        data = requests.get(url,timeout=2)\n",
    "        \n",
    "    except (requests.ConnectionError,\n",
    "            requests.RequestException,\n",
    "            requests.HTTPError,\n",
    "            requests.Timeout,\n",
    "            requests.TooManyRedirects) as e:\n",
    "        #print(str(e))\n",
    "        #print('Erro: '+url)\n",
    "        #error_lists.append(cid)\n",
    "        #wrong_cities['cidade'].append(cid[1])\n",
    "        #wrong_cities['codigo'].append(cid[0])\n",
    "        error_list.append(cid)\n",
    "    try:\n",
    "        df_city_2 = pd.DataFrame(data.json()[1])\n",
    "        df_city_2.to_csv(r'dados_escolares_cidades/'+file_name, index = False)\n",
    "        df_city = df_city.append(df_city_2).reset_index(drop=True)\n",
    "    except ValueError:\n",
    "        print('JSON parse failed.')\n",
    "\n",
    "        "
   ]
  },
  {
   "cell_type": "code",
   "execution_count": 50,
   "metadata": {},
   "outputs": [
    {
     "data": {
      "text/plain": [
       "[]"
      ]
     },
     "execution_count": 50,
     "metadata": {},
     "output_type": "execute_result"
    }
   ],
   "source": [
    "error_list"
   ]
  },
  {
   "cell_type": "code",
   "execution_count": 21,
   "metadata": {},
   "outputs": [],
   "source": [
    "\n",
    "\n",
    "df_wrong.to_csv(r'dados_escolares_cidades/error_log.csv', index = False, mode='a', header=False)"
   ]
  },
  {
   "cell_type": "code",
   "execution_count": 42,
   "metadata": {},
   "outputs": [
    {
     "data": {
      "text/plain": [
       "[['3109105', 'BUENO BRANDAO'], ['3109204', 'BUENOPOLIS']]"
      ]
     },
     "execution_count": 42,
     "metadata": {},
     "output_type": "execute_result"
    }
   ],
   "source": [
    "lista_cidades_cod"
   ]
  },
  {
   "cell_type": "code",
   "execution_count": null,
   "metadata": {},
   "outputs": [],
   "source": [
    "df.to_csv('my_csv.csv', mode='a', header=False)"
   ]
  },
  {
   "cell_type": "markdown",
   "metadata": {},
   "source": [
    "   # Exportando dados de Escolas - Arquivo Unico"
   ]
  },
  {
   "cell_type": "code",
   "execution_count": 57,
   "metadata": {},
   "outputs": [
    {
     "name": "stderr",
     "output_type": "stream",
     "text": [
      "100%|██████████| 852/852 [08:59<00:00,  1.58it/s]\n"
     ]
    }
   ],
   "source": [
    "import requests\n",
    "import eventlet\n",
    "from tqdm import tqdm\n",
    "\n",
    "estado = 'mg'\n",
    "url = 'http://educacao.dadosabertosbr.com/api/cidades/'+estado\n",
    "data = requests.get(url)\n",
    "lista_cidades_cod = list(map(lambda string: string.split(':'),data.json()))\n",
    "\n",
    "ini = 0;\n",
    "fim = -1;\n",
    "file_name = 'school_dataset_'+estado+'.csv'\n",
    "\n",
    "error_list = []\n",
    "#wrong_cities = {'cidade':[],'codigo':[]};\n",
    "\n",
    "cid_code = lista_cidades_cod[0][0]\n",
    "url = 'http://educacao.dadosabertosbr.com/api/escolas/buscaavancada?situacaoFuncionamento=1&cidade='+cid_code\n",
    "\n",
    "\n",
    "try:\n",
    "    data = requests.get(url,timeout=2)\n",
    "except:\n",
    "    try:\n",
    "        data = requests.get(url,timeout=2) \n",
    "    except:\n",
    "        try:\n",
    "            data = requests.get(url,timeout=2) \n",
    "        except:\n",
    "            error_list.append(lista_cidades_cod[0])\n",
    "    \n",
    "try:\n",
    "    df_city = pd.DataFrame(data.json()[1])\n",
    "    #file_name = lista_cidades_cod[0][1]+'-'+lista_cidades_cod[0][0]+'.csv'\n",
    "    df_city.to_csv(r'dados_escolares_cidades/'+file_name, index = False)\n",
    "    \n",
    "except ValueError:\n",
    "    print('JSON parse failed.')\n",
    "     \n",
    "\n",
    "# Looping through cities\n",
    "    \n",
    "for cid in tqdm([elem for elem in lista_cidades_cod[ini:fim]]):\n",
    "    cid_code = cid[0]\n",
    "    url = 'http://educacao.dadosabertosbr.com/api/escolas/buscaavancada?situacaoFuncionamento=1&cidade='+cid_code\n",
    "    #file_name = cid[1]+'-'+cid[0]+'.csv'\n",
    "\n",
    "    \n",
    "    try:\n",
    "        data = requests.get(url,timeout=2)\n",
    "    except:\n",
    "        try:\n",
    "            data = requests.get(url,timeout=2) \n",
    "        except:\n",
    "            try:\n",
    "                data = requests.get(url,timeout=2) \n",
    "            except:\n",
    "                error_list.append(cid)    \n",
    "\n",
    "    try:\n",
    "        df_city_2 = pd.DataFrame(data.json()[1])\n",
    "        df_city_2.to_csv(r'dados_escolares_cidades/'+file_name, index = False, mode='a', header=False)\n",
    "        \n",
    "        #df_city = df_city.append(df_city_2).reset_index(drop=True)\n",
    "        \n",
    "    except ValueError:\n",
    "        print('JSON parse failed.')\n",
    "\n",
    "        "
   ]
  },
  {
   "cell_type": "code",
   "execution_count": 58,
   "metadata": {
    "scrolled": true
   },
   "outputs": [
    {
     "data": {
      "text/html": [
       "<div>\n",
       "<style scoped>\n",
       "    .dataframe tbody tr th:only-of-type {\n",
       "        vertical-align: middle;\n",
       "    }\n",
       "\n",
       "    .dataframe tbody tr th {\n",
       "        vertical-align: top;\n",
       "    }\n",
       "\n",
       "    .dataframe thead th {\n",
       "        text-align: right;\n",
       "    }\n",
       "</style>\n",
       "<table border=\"1\" class=\"dataframe\">\n",
       "  <thead>\n",
       "    <tr style=\"text-align: right;\">\n",
       "      <th></th>\n",
       "      <th>cidade</th>\n",
       "      <th>codigo</th>\n",
       "    </tr>\n",
       "  </thead>\n",
       "  <tbody>\n",
       "  </tbody>\n",
       "</table>\n",
       "</div>"
      ],
      "text/plain": [
       "Empty DataFrame\n",
       "Columns: [cidade, codigo]\n",
       "Index: []"
      ]
     },
     "execution_count": 58,
     "metadata": {},
     "output_type": "execute_result"
    }
   ],
   "source": [
    "\n",
    "df_wrong = pd.DataFrame({'cidade':[elem[0] for elem in error_list],\n",
    "                         'codigo':[elem[1] for elem in error_list]},\n",
    "                        columns = ['cidade','codigo'])\n",
    "\n",
    "df_wrong "
   ]
  },
  {
   "cell_type": "code",
   "execution_count": 53,
   "metadata": {
    "scrolled": true
   },
   "outputs": [
    {
     "name": "stderr",
     "output_type": "stream",
     "text": [
      "0it [00:00, ?it/s]\n"
     ]
    }
   ],
   "source": [
    "lista_cidades_cod = error_list\n",
    "\n",
    "error_list = []\n",
    "#wrong_cities = {'cidade':[],'codigo':[]};\n",
    "\n",
    "cid_code = lista_cidades_cod[0][0]\n",
    "url = 'http://educacao.dadosabertosbr.com/api/escolas/buscaavancada?situacaoFuncionamento=1&cidade='+cid_code\n",
    "\n",
    "\n",
    "try:\n",
    "    data = requests.get(url,timeout=2)\n",
    "    \n",
    "except:\n",
    "    error_list.append(lista_cidades_cod[0])\n",
    "    \n",
    "try:\n",
    "    df_city = pd.DataFrame(data.json()[1])\n",
    "    #file_name = lista_cidades_cod[0][1]+'-'+lista_cidades_cod[0][0]+'.csv'\n",
    "    df_city.to_csv(r'dados_escolares_cidades/'+file_name, index = False)\n",
    "    \n",
    "except ValueError:\n",
    "    print('JSON parse failed.')\n",
    "     \n",
    "\n",
    "# Looping through cities\n",
    "    \n",
    "for cid in tqdm([elem for elem in lista_cidades_cod[1:-1]]):\n",
    "    cid_code = cid[0]\n",
    "    url = 'http://educacao.dadosabertosbr.com/api/escolas/buscaavancada?situacaoFuncionamento=1&cidade='+cid_code\n",
    "    #file_name = cid[1]+'-'+cid[0]+'.csv'\n",
    "       \n",
    "    try:\n",
    "        data = requests.get(url,timeout=2)\n",
    "        \n",
    "    except :\n",
    "        error_list.append(cid)\n",
    "    try:\n",
    "        df_city_2 = pd.DataFrame(data.json()[1])\n",
    "        df_city_2.to_csv(r'dados_escolares_cidades/'+file_name, index = False)\n",
    "        df_city = df_city.append(df_city_2).reset_index(drop=True)\n",
    "    except ValueError:\n",
    "        print('JSON parse failed.')"
   ]
  },
  {
   "cell_type": "code",
   "execution_count": 54,
   "metadata": {},
   "outputs": [
    {
     "data": {
      "text/html": [
       "<div>\n",
       "<style scoped>\n",
       "    .dataframe tbody tr th:only-of-type {\n",
       "        vertical-align: middle;\n",
       "    }\n",
       "\n",
       "    .dataframe tbody tr th {\n",
       "        vertical-align: top;\n",
       "    }\n",
       "\n",
       "    .dataframe thead th {\n",
       "        text-align: right;\n",
       "    }\n",
       "</style>\n",
       "<table border=\"1\" class=\"dataframe\">\n",
       "  <thead>\n",
       "    <tr style=\"text-align: right;\">\n",
       "      <th></th>\n",
       "      <th>cidade</th>\n",
       "      <th>codigo</th>\n",
       "    </tr>\n",
       "  </thead>\n",
       "  <tbody>\n",
       "  </tbody>\n",
       "</table>\n",
       "</div>"
      ],
      "text/plain": [
       "Empty DataFrame\n",
       "Columns: [cidade, codigo]\n",
       "Index: []"
      ]
     },
     "execution_count": 54,
     "metadata": {},
     "output_type": "execute_result"
    }
   ],
   "source": [
    "\n",
    "df_wrong = pd.DataFrame({'cidade':[elem[0] for elem in error_list],\n",
    "                         'codigo':[elem[1] for elem in error_list]},\n",
    "                        columns = ['cidade','codigo'])\n",
    "\n",
    "df_wrong "
   ]
  },
  {
   "cell_type": "markdown",
   "metadata": {},
   "source": [
    "# Lista de Estados"
   ]
  },
  {
   "cell_type": "code",
   "execution_count": 125,
   "metadata": {},
   "outputs": [
    {
     "data": {
      "text/html": [
       "<div>\n",
       "<style scoped>\n",
       "    .dataframe tbody tr th:only-of-type {\n",
       "        vertical-align: middle;\n",
       "    }\n",
       "\n",
       "    .dataframe tbody tr th {\n",
       "        vertical-align: top;\n",
       "    }\n",
       "\n",
       "    .dataframe thead th {\n",
       "        text-align: right;\n",
       "    }\n",
       "</style>\n",
       "<table border=\"1\" class=\"dataframe\">\n",
       "  <thead>\n",
       "    <tr style=\"text-align: right;\">\n",
       "      <th></th>\n",
       "      <th>anoCenso</th>\n",
       "      <th>cod</th>\n",
       "      <th>nome</th>\n",
       "      <th>codCidade</th>\n",
       "      <th>cidade</th>\n",
       "      <th>estado</th>\n",
       "      <th>regiao</th>\n",
       "      <th>situacaoFuncionamento</th>\n",
       "      <th>dependenciaAdministrativa</th>\n",
       "      <th>idebAI</th>\n",
       "      <th>idebAF</th>\n",
       "      <th>enemMediaGeral</th>\n",
       "      <th>situacaoFuncionamentoTxt</th>\n",
       "      <th>dependenciaAdministrativaTxt</th>\n",
       "    </tr>\n",
       "  </thead>\n",
       "  <tbody>\n",
       "    <tr>\n",
       "      <th>0</th>\n",
       "      <td>2013</td>\n",
       "      <td>31249939</td>\n",
       "      <td>APAE ESC CRESCER</td>\n",
       "      <td>3100104</td>\n",
       "      <td>ABADIA DOS DOURADOS</td>\n",
       "      <td>MG</td>\n",
       "      <td>Sudeste</td>\n",
       "      <td>1</td>\n",
       "      <td>4</td>\n",
       "      <td>0.0</td>\n",
       "      <td>0.0</td>\n",
       "      <td>0.000000</td>\n",
       "      <td>Em atividade</td>\n",
       "      <td>Privada</td>\n",
       "    </tr>\n",
       "    <tr>\n",
       "      <th>1</th>\n",
       "      <td>2013</td>\n",
       "      <td>31313262</td>\n",
       "      <td>C EDUC INF MUN D ESMERALDA MARRA</td>\n",
       "      <td>3100104</td>\n",
       "      <td>ABADIA DOS DOURADOS</td>\n",
       "      <td>MG</td>\n",
       "      <td>Sudeste</td>\n",
       "      <td>1</td>\n",
       "      <td>3</td>\n",
       "      <td>0.0</td>\n",
       "      <td>0.0</td>\n",
       "      <td>0.000000</td>\n",
       "      <td>Em atividade</td>\n",
       "      <td>Municipal</td>\n",
       "    </tr>\n",
       "    <tr>\n",
       "      <th>2</th>\n",
       "      <td>2013</td>\n",
       "      <td>31313271</td>\n",
       "      <td>C EDUC INF MUN D LAUREANA BATISTA</td>\n",
       "      <td>3100104</td>\n",
       "      <td>ABADIA DOS DOURADOS</td>\n",
       "      <td>MG</td>\n",
       "      <td>Sudeste</td>\n",
       "      <td>1</td>\n",
       "      <td>3</td>\n",
       "      <td>0.0</td>\n",
       "      <td>0.0</td>\n",
       "      <td>0.000000</td>\n",
       "      <td>Em atividade</td>\n",
       "      <td>Municipal</td>\n",
       "    </tr>\n",
       "    <tr>\n",
       "      <th>3</th>\n",
       "      <td>2013</td>\n",
       "      <td>31200271</td>\n",
       "      <td>EE PEDRO ALVARES CABRAL</td>\n",
       "      <td>3100104</td>\n",
       "      <td>ABADIA DOS DOURADOS</td>\n",
       "      <td>MG</td>\n",
       "      <td>Sudeste</td>\n",
       "      <td>1</td>\n",
       "      <td>2</td>\n",
       "      <td>0.0</td>\n",
       "      <td>5.6</td>\n",
       "      <td>486.895996</td>\n",
       "      <td>Em atividade</td>\n",
       "      <td>Estadual</td>\n",
       "    </tr>\n",
       "    <tr>\n",
       "      <th>4</th>\n",
       "      <td>2013</td>\n",
       "      <td>31200263</td>\n",
       "      <td>EM DE PALMITOS</td>\n",
       "      <td>3100104</td>\n",
       "      <td>ABADIA DOS DOURADOS</td>\n",
       "      <td>MG</td>\n",
       "      <td>Sudeste</td>\n",
       "      <td>1</td>\n",
       "      <td>3</td>\n",
       "      <td>0.0</td>\n",
       "      <td>0.0</td>\n",
       "      <td>0.000000</td>\n",
       "      <td>Em atividade</td>\n",
       "      <td>Municipal</td>\n",
       "    </tr>\n",
       "    <tr>\n",
       "      <th>...</th>\n",
       "      <td>...</td>\n",
       "      <td>...</td>\n",
       "      <td>...</td>\n",
       "      <td>...</td>\n",
       "      <td>...</td>\n",
       "      <td>...</td>\n",
       "      <td>...</td>\n",
       "      <td>...</td>\n",
       "      <td>...</td>\n",
       "      <td>...</td>\n",
       "      <td>...</td>\n",
       "      <td>...</td>\n",
       "      <td>...</td>\n",
       "      <td>...</td>\n",
       "    </tr>\n",
       "    <tr>\n",
       "      <th>14580</th>\n",
       "      <td>2013</td>\n",
       "      <td>31099589</td>\n",
       "      <td>EE CAPITAO GODOY</td>\n",
       "      <td>3172103</td>\n",
       "      <td>VOLTA GRANDE</td>\n",
       "      <td>MG</td>\n",
       "      <td>Sudeste</td>\n",
       "      <td>1</td>\n",
       "      <td>2</td>\n",
       "      <td>0.0</td>\n",
       "      <td>0.0</td>\n",
       "      <td>470.731995</td>\n",
       "      <td>Em atividade</td>\n",
       "      <td>Estadual</td>\n",
       "    </tr>\n",
       "    <tr>\n",
       "      <th>14581</th>\n",
       "      <td>2013</td>\n",
       "      <td>31099627</td>\n",
       "      <td>EM DE TRIMONTE</td>\n",
       "      <td>3172103</td>\n",
       "      <td>VOLTA GRANDE</td>\n",
       "      <td>MG</td>\n",
       "      <td>Sudeste</td>\n",
       "      <td>1</td>\n",
       "      <td>3</td>\n",
       "      <td>0.0</td>\n",
       "      <td>0.0</td>\n",
       "      <td>0.000000</td>\n",
       "      <td>Em atividade</td>\n",
       "      <td>Municipal</td>\n",
       "    </tr>\n",
       "    <tr>\n",
       "      <th>14582</th>\n",
       "      <td>2013</td>\n",
       "      <td>31099597</td>\n",
       "      <td>EM GASPAR MARIA PEREIRA</td>\n",
       "      <td>3172103</td>\n",
       "      <td>VOLTA GRANDE</td>\n",
       "      <td>MG</td>\n",
       "      <td>Sudeste</td>\n",
       "      <td>1</td>\n",
       "      <td>3</td>\n",
       "      <td>0.0</td>\n",
       "      <td>0.0</td>\n",
       "      <td>0.000000</td>\n",
       "      <td>Em atividade</td>\n",
       "      <td>Municipal</td>\n",
       "    </tr>\n",
       "    <tr>\n",
       "      <th>14583</th>\n",
       "      <td>2013</td>\n",
       "      <td>31315583</td>\n",
       "      <td>EM N SRA DO ROSARIO</td>\n",
       "      <td>3172103</td>\n",
       "      <td>VOLTA GRANDE</td>\n",
       "      <td>MG</td>\n",
       "      <td>Sudeste</td>\n",
       "      <td>1</td>\n",
       "      <td>3</td>\n",
       "      <td>6.1</td>\n",
       "      <td>4.7</td>\n",
       "      <td>0.000000</td>\n",
       "      <td>Em atividade</td>\n",
       "      <td>Municipal</td>\n",
       "    </tr>\n",
       "    <tr>\n",
       "      <th>14584</th>\n",
       "      <td>2013</td>\n",
       "      <td>31099619</td>\n",
       "      <td>EM SAO GERALDO</td>\n",
       "      <td>3172103</td>\n",
       "      <td>VOLTA GRANDE</td>\n",
       "      <td>MG</td>\n",
       "      <td>Sudeste</td>\n",
       "      <td>1</td>\n",
       "      <td>3</td>\n",
       "      <td>0.0</td>\n",
       "      <td>0.0</td>\n",
       "      <td>0.000000</td>\n",
       "      <td>Em atividade</td>\n",
       "      <td>Municipal</td>\n",
       "    </tr>\n",
       "  </tbody>\n",
       "</table>\n",
       "<p>14585 rows × 14 columns</p>\n",
       "</div>"
      ],
      "text/plain": [
       "       anoCenso       cod                               nome  codCidade  \\\n",
       "0          2013  31249939                   APAE ESC CRESCER    3100104   \n",
       "1          2013  31313262   C EDUC INF MUN D ESMERALDA MARRA    3100104   \n",
       "2          2013  31313271  C EDUC INF MUN D LAUREANA BATISTA    3100104   \n",
       "3          2013  31200271            EE PEDRO ALVARES CABRAL    3100104   \n",
       "4          2013  31200263                     EM DE PALMITOS    3100104   \n",
       "...         ...       ...                                ...        ...   \n",
       "14580      2013  31099589                   EE CAPITAO GODOY    3172103   \n",
       "14581      2013  31099627                     EM DE TRIMONTE    3172103   \n",
       "14582      2013  31099597            EM GASPAR MARIA PEREIRA    3172103   \n",
       "14583      2013  31315583                EM N SRA DO ROSARIO    3172103   \n",
       "14584      2013  31099619                     EM SAO GERALDO    3172103   \n",
       "\n",
       "                    cidade estado   regiao  situacaoFuncionamento  \\\n",
       "0      ABADIA DOS DOURADOS     MG  Sudeste                      1   \n",
       "1      ABADIA DOS DOURADOS     MG  Sudeste                      1   \n",
       "2      ABADIA DOS DOURADOS     MG  Sudeste                      1   \n",
       "3      ABADIA DOS DOURADOS     MG  Sudeste                      1   \n",
       "4      ABADIA DOS DOURADOS     MG  Sudeste                      1   \n",
       "...                    ...    ...      ...                    ...   \n",
       "14580         VOLTA GRANDE     MG  Sudeste                      1   \n",
       "14581         VOLTA GRANDE     MG  Sudeste                      1   \n",
       "14582         VOLTA GRANDE     MG  Sudeste                      1   \n",
       "14583         VOLTA GRANDE     MG  Sudeste                      1   \n",
       "14584         VOLTA GRANDE     MG  Sudeste                      1   \n",
       "\n",
       "       dependenciaAdministrativa  idebAI  idebAF  enemMediaGeral  \\\n",
       "0                              4     0.0     0.0        0.000000   \n",
       "1                              3     0.0     0.0        0.000000   \n",
       "2                              3     0.0     0.0        0.000000   \n",
       "3                              2     0.0     5.6      486.895996   \n",
       "4                              3     0.0     0.0        0.000000   \n",
       "...                          ...     ...     ...             ...   \n",
       "14580                          2     0.0     0.0      470.731995   \n",
       "14581                          3     0.0     0.0        0.000000   \n",
       "14582                          3     0.0     0.0        0.000000   \n",
       "14583                          3     6.1     4.7        0.000000   \n",
       "14584                          3     0.0     0.0        0.000000   \n",
       "\n",
       "      situacaoFuncionamentoTxt dependenciaAdministrativaTxt  \n",
       "0                 Em atividade                      Privada  \n",
       "1                 Em atividade                    Municipal  \n",
       "2                 Em atividade                    Municipal  \n",
       "3                 Em atividade                     Estadual  \n",
       "4                 Em atividade                    Municipal  \n",
       "...                        ...                          ...  \n",
       "14580             Em atividade                     Estadual  \n",
       "14581             Em atividade                    Municipal  \n",
       "14582             Em atividade                    Municipal  \n",
       "14583             Em atividade                    Municipal  \n",
       "14584             Em atividade                    Municipal  \n",
       "\n",
       "[14585 rows x 14 columns]"
      ]
     },
     "execution_count": 125,
     "metadata": {},
     "output_type": "execute_result"
    }
   ],
   "source": [
    "df_esc"
   ]
  },
  {
   "cell_type": "code",
   "execution_count": null,
   "metadata": {},
   "outputs": [],
   "source": []
  }
 ],
 "metadata": {
  "kernelspec": {
   "display_name": "Python 3",
   "language": "python",
   "name": "python3"
  },
  "language_info": {
   "codemirror_mode": {
    "name": "ipython",
    "version": 3
   },
   "file_extension": ".py",
   "mimetype": "text/x-python",
   "name": "python",
   "nbconvert_exporter": "python",
   "pygments_lexer": "ipython3",
   "version": "3.7.6"
  }
 },
 "nbformat": 4,
 "nbformat_minor": 4
}
