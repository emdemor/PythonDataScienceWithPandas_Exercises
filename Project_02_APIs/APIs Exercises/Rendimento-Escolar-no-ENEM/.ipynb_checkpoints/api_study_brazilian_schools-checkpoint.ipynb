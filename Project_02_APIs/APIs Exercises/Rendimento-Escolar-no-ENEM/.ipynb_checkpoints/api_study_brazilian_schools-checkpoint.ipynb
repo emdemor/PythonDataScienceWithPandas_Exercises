{
 "cells": [
  {
   "cell_type": "markdown",
   "metadata": {},
   "source": [
    "# Escolas do Brasil"
   ]
  },
  {
   "cell_type": "code",
   "execution_count": 49,
   "metadata": {},
   "outputs": [],
   "source": [
    "import pandas as pd\n",
    "import requests, os, glob\n",
    "import matplotlib.pyplot as plt\n",
    "import numpy as np\n",
    "from getpass import getpass\n",
    "from tqdm import tqdm\n",
    "from os import path\n",
    "pd.options.display.max_columns = 30"
   ]
  },
  {
   "cell_type": "markdown",
   "metadata": {},
   "source": [
    "# Importando Dados da API"
   ]
  },
  {
   "cell_type": "code",
   "execution_count": 50,
   "metadata": {},
   "outputs": [],
   "source": [
    "def request_state(direc,estado):   \n",
    "    \n",
    "    #print(estado+\": getting list of cities\")\n",
    "    url = 'http://educacao.dadosabertosbr.com/api/cidades/'+estado\n",
    "    data = requests.get(url)\n",
    "    city_codes_list = list(map(lambda string: string.split(':'),data.json()))\n",
    "    \n",
    "    file_name = 'school_dataset_'+estado+'.csv'\n",
    "    \n",
    "    error_list = []\n",
    "    #wrong_cities = {'cidade':[],'codigo':[]};\n",
    "    \n",
    "    city_code = city_codes_list[0][0]\n",
    "    url = 'http://educacao.dadosabertosbr.com/api/escolas/buscaavancada?situacaoFuncionamento=1&cidade='+city_code\n",
    "    \n",
    "    #print(url)\n",
    "    \n",
    "    #print(estado+\": requesting the data for the first city\")\n",
    "\n",
    "    try:\n",
    "        data = requests.get(url,timeout=2)\n",
    "    except:\n",
    "        try:\n",
    "            data = requests.get(url,timeout=2) \n",
    "        except:\n",
    "            try:\n",
    "                data = requests.get(url,timeout=2) \n",
    "            except:\n",
    "                error_list.append(city_codes_list[0])\n",
    "      \n",
    "    if data.status_code == 200:\n",
    "        df_city = pd.DataFrame(data.json()[1])\n",
    "        file_address = path.join(direc, file_name)\n",
    "        if glob.glob(file_address):\n",
    "            os.remove(file_address)\n",
    "        df_city.to_csv(path.join(direc, file_name), index = False)\n",
    "    \n",
    "    else:\n",
    "        print(estado+': JSON parse failed in'+city_codes_list[0][1]+'. ')\n",
    "         \n",
    "    \n",
    "    # Looping through the cities\n",
    "    #print(estado+\": Looping through the cities\")\n",
    "    for city in tqdm([elem for elem in city_codes_list[1:-1]]):\n",
    "        city_code = city[0]\n",
    "                   \n",
    "        url = 'http://educacao.dadosabertosbr.com/api/escolas/buscaavancada?situacaoFuncionamento=1&cidade='+city_code\n",
    "    \n",
    "        \n",
    "        try:\n",
    "            data = requests.get(url,timeout=2)\n",
    "        except:\n",
    "            try:\n",
    "                data = requests.get(url,timeout=2) \n",
    "            except:\n",
    "                try:\n",
    "                    data = requests.get(url,timeout=2) \n",
    "                except:\n",
    "                    error_list.append(city)    \n",
    "    \n",
    "        if data.status_code == 200:\n",
    "            df_city_2 = pd.DataFrame(data.json()[1])\n",
    "            df_city_2.to_csv(path.join(direc, file_name), index = False, mode='a', header=False)\n",
    "            \n",
    "        else:\n",
    "            print(estado+': JSON parse failed in '+city[1])\n",
    "        \n",
    "    return error_list"
   ]
  },
  {
   "cell_type": "markdown",
   "metadata": {},
   "source": [
    "   # Requesting data for each state"
   ]
  },
  {
   "cell_type": "code",
   "execution_count": 51,
   "metadata": {},
   "outputs": [],
   "source": [
    "data_direc = 'state_school_data'\n",
    "\n",
    "try:\n",
    "    # getting all states from IBGE API\n",
    "    data = requests.get('https://servicodados.ibge.gov.br/api/v1/localidades/estados')\n",
    "    states_list = pd.DataFrame(data.json()).sort_values('sigla')['sigla'].str.lower().to_list()\n",
    "    \n",
    "    STATUS_OK = True\n",
    "    \n",
    "except:\n",
    "    STATUS_OK = False\n",
    "\n",
    "error_list_states = []\n",
    "\n",
    "\n",
    "if STATUS_OK:\n",
    "    \n",
    "    df_status = pd.read_csv(path.join(data_direc, 'states_status_ok.csv')) \n",
    "    \n",
    "    #for state in states_list if state not in df_status['state'].tolist():\n",
    "    for state in states_list:   \n",
    "        if not (state in df_status['state'].tolist()):\n",
    "            print(\"state: \",state)\n",
    "            error_list = request_state(data_direc,state)\n",
    "            error_list_states.append(error_list)\n",
    "            if len(error_list)==0:\n",
    "                with open(path.join(data_direc, 'states_status_ok.csv'),'a') as fd:\n",
    "                    fd.write(state+'\\n')\n"
   ]
  },
  {
   "cell_type": "markdown",
   "metadata": {},
   "source": [
    "   # Importing data for each state an joining"
   ]
  },
  {
   "cell_type": "code",
   "execution_count": 52,
   "metadata": {},
   "outputs": [
    {
     "name": "stderr",
     "output_type": "stream",
     "text": [
      "100%|██████████| 25/25 [00:00<00:00, 28.79it/s]\n"
     ]
    }
   ],
   "source": [
    "data_direc = 'state_school_data'\n",
    "\n",
    "# creting a empty dataset\n",
    "\n",
    "df_bras = pd.read_csv(path.join(data_direc, 'school_dataset_' + states_list[0] + '.csv'))\n",
    "\n",
    "for state in tqdm(states_list[1:-1]):\n",
    "    df_bras = df_bras.append(pd.read_csv(path.join(data_direc, 'school_dataset_' + state + '.csv')))\n",
    "    \n",
    "df_bras.to_csv(path.join(data_direc,'school_dataset_BR.csv'), index = False)"
   ]
  },
  {
   "cell_type": "code",
   "execution_count": 17,
   "metadata": {
    "scrolled": false
   },
   "outputs": [
    {
     "name": "stdout",
     "output_type": "stream",
     "text": [
      "<class 'pandas.core.frame.DataFrame'>\n",
      "Int64Index: 145357 entries, 0 to 16533\n",
      "Data columns (total 14 columns):\n",
      " #   Column                        Non-Null Count   Dtype  \n",
      "---  ------                        --------------   -----  \n",
      " 0   anoCenso                      145357 non-null  int64  \n",
      " 1   cod                           145357 non-null  int64  \n",
      " 2   nome                          145357 non-null  object \n",
      " 3   codCidade                     145357 non-null  int64  \n",
      " 4   cidade                        145357 non-null  object \n",
      " 5   estado                        145357 non-null  object \n",
      " 6   regiao                        145357 non-null  object \n",
      " 7   situacaoFuncionamento         145357 non-null  int64  \n",
      " 8   dependenciaAdministrativa     145357 non-null  int64  \n",
      " 9   idebAI                        145357 non-null  float64\n",
      " 10  idebAF                        145357 non-null  float64\n",
      " 11  enemMediaGeral                145357 non-null  float64\n",
      " 12  situacaoFuncionamentoTxt      145357 non-null  object \n",
      " 13  dependenciaAdministrativaTxt  145357 non-null  object \n",
      "dtypes: float64(3), int64(5), object(6)\n",
      "memory usage: 16.6+ MB\n"
     ]
    }
   ],
   "source": []
  },
  {
   "cell_type": "code",
   "execution_count": 53,
   "metadata": {},
   "outputs": [
    {
     "name": "stdout",
     "output_type": "stream",
     "text": [
      "<class 'pandas.core.frame.DataFrame'>\n",
      "RangeIndex: 145357 entries, 0 to 145356\n",
      "Data columns (total 14 columns):\n",
      " #   Column                        Non-Null Count   Dtype  \n",
      "---  ------                        --------------   -----  \n",
      " 0   anoCenso                      145357 non-null  int64  \n",
      " 1   cod                           145357 non-null  int64  \n",
      " 2   nome                          145357 non-null  object \n",
      " 3   codCidade                     145357 non-null  int64  \n",
      " 4   cidade                        145357 non-null  object \n",
      " 5   estado                        145357 non-null  object \n",
      " 6   regiao                        145357 non-null  object \n",
      " 7   situacaoFuncionamento         145357 non-null  int64  \n",
      " 8   dependenciaAdministrativa     145357 non-null  int64  \n",
      " 9   idebAI                        145357 non-null  float64\n",
      " 10  idebAF                        145357 non-null  float64\n",
      " 11  enemMediaGeral                145357 non-null  float64\n",
      " 12  situacaoFuncionamentoTxt      145357 non-null  object \n",
      " 13  dependenciaAdministrativaTxt  145357 non-null  object \n",
      "dtypes: float64(3), int64(5), object(6)\n",
      "memory usage: 15.5+ MB\n"
     ]
    }
   ],
   "source": [
    "df_bras = pd.read_csv(path.join(data_direc, 'school_dataset_BR.csv'))\n",
    "df_bras.info()"
   ]
  },
  {
   "cell_type": "markdown",
   "metadata": {},
   "source": [
    "# 1. Interpretando Dados - Brasil"
   ]
  },
  {
   "cell_type": "markdown",
   "metadata": {},
   "source": [
    "## 1.1 Notas do ENEM"
   ]
  },
  {
   "cell_type": "markdown",
   "metadata": {},
   "source": [
    "### 1.1.a Comparação entre escolas públicas e privadas"
   ]
  },
  {
   "cell_type": "code",
   "execution_count": 80,
   "metadata": {},
   "outputs": [
    {
     "data": {
      "image/png": "[encoded data removed]",
      "text/plain": [
       "<Figure size 432x288 with 1 Axes>"
      ]
     },
     "metadata": {
      "needs_background": "light"
     },
     "output_type": "display_data"
    }
   ],
   "source": [
    "state = 'BR'\n",
    "result_direc = 'results'\n",
    "df_esc = df_bras.copy()\n",
    "\n",
    "conditions = True;\n",
    "conditions &= df_esc['enemMediaGeral'] > 0\n",
    "\n",
    "df_cond = df_bras[conditions]\n",
    "df_pri = df_esc[conditions & (df_esc['dependenciaAdministrativaTxt'] == 'Privada')]\n",
    "df_pub = df_esc[conditions & ((df_esc['dependenciaAdministrativaTxt'] == 'Estadual') | (df_esc['dependenciaAdministrativaTxt'] == 'Municipal'))]\n",
    "\n",
    "plt.hist([df_pri['enemMediaGeral'],df_pub['enemMediaGeral']],\n",
    "         rwidth=3,\n",
    "         bins=30,\n",
    "         density=True,\n",
    "         histtype='stepfilled', alpha=0.7, label=['Privadas','Públicas'])\n",
    "\n",
    "plt.title(\"Pontuação média das escolas no ENEM (\"+state.upper()+\")\");\n",
    "plt.xlabel('Média no ENEM')\n",
    "plt.legend()\n",
    "\n",
    "plt.savefig(path.join(result_direc, 'comp_pont_ENEM_' + state + '.png'), bbox_inches='tight')\n",
    "\n"
   ]
  },
  {
   "cell_type": "markdown",
   "metadata": {},
   "source": [
    "### 1.1.b Cidades Melhores Ranqueadas"
   ]
  },
  {
   "cell_type": "markdown",
   "metadata": {},
   "source": [
    "#### Geral"
   ]
  },
  {
   "cell_type": "code",
   "execution_count": 90,
   "metadata": {},
   "outputs": [
    {
     "data": {
      "text/html": [
       "<div>\n",
       "<style scoped>\n",
       "    .dataframe tbody tr th:only-of-type {\n",
       "        vertical-align: middle;\n",
       "    }\n",
       "\n",
       "    .dataframe tbody tr th {\n",
       "        vertical-align: top;\n",
       "    }\n",
       "\n",
       "    .dataframe thead th {\n",
       "        text-align: right;\n",
       "    }\n",
       "</style>\n",
       "<table border=\"1\" class=\"dataframe\">\n",
       "  <thead>\n",
       "    <tr style=\"text-align: right;\">\n",
       "      <th></th>\n",
       "      <th>enemMediaGeral</th>\n",
       "    </tr>\n",
       "    <tr>\n",
       "      <th>cidade</th>\n",
       "      <th></th>\n",
       "    </tr>\n",
       "  </thead>\n",
       "  <tbody>\n",
       "    <tr>\n",
       "      <th>JOINVILLE</th>\n",
       "      <td>652.564026</td>\n",
       "    </tr>\n",
       "    <tr>\n",
       "      <th>MONTE SIAO</th>\n",
       "      <td>635.815979</td>\n",
       "    </tr>\n",
       "    <tr>\n",
       "      <th>AREADO</th>\n",
       "      <td>626.937988</td>\n",
       "    </tr>\n",
       "    <tr>\n",
       "      <th>IRARA</th>\n",
       "      <td>620.340027</td>\n",
       "    </tr>\n",
       "    <tr>\n",
       "      <th>HOLAMBRA</th>\n",
       "      <td>618.755005</td>\n",
       "    </tr>\n",
       "    <tr>\n",
       "      <th>RIO CASCA</th>\n",
       "      <td>616.531982</td>\n",
       "    </tr>\n",
       "    <tr>\n",
       "      <th>PECANHA</th>\n",
       "      <td>616.140015</td>\n",
       "    </tr>\n",
       "    <tr>\n",
       "      <th>PARAISOPOLIS</th>\n",
       "      <td>614.924011</td>\n",
       "    </tr>\n",
       "    <tr>\n",
       "      <th>CASSIA</th>\n",
       "      <td>612.809998</td>\n",
       "    </tr>\n",
       "    <tr>\n",
       "      <th>BELO HORIZONTE</th>\n",
       "      <td>611.877991</td>\n",
       "    </tr>\n",
       "    <tr>\n",
       "      <th>APIAI</th>\n",
       "      <td>611.158020</td>\n",
       "    </tr>\n",
       "    <tr>\n",
       "      <th>POJUCA</th>\n",
       "      <td>607.794006</td>\n",
       "    </tr>\n",
       "    <tr>\n",
       "      <th>BLUMENAU</th>\n",
       "      <td>607.195999</td>\n",
       "    </tr>\n",
       "    <tr>\n",
       "      <th>SABINOPOLIS</th>\n",
       "      <td>606.453979</td>\n",
       "    </tr>\n",
       "    <tr>\n",
       "      <th>MONTE SANTO DE MINAS</th>\n",
       "      <td>605.203979</td>\n",
       "    </tr>\n",
       "    <tr>\n",
       "      <th>BASTOS</th>\n",
       "      <td>604.372009</td>\n",
       "    </tr>\n",
       "    <tr>\n",
       "      <th>NOVA GRANADA</th>\n",
       "      <td>604.278015</td>\n",
       "    </tr>\n",
       "    <tr>\n",
       "      <th>CONGONHAS</th>\n",
       "      <td>603.328003</td>\n",
       "    </tr>\n",
       "    <tr>\n",
       "      <th>CHAPECO</th>\n",
       "      <td>602.870398</td>\n",
       "    </tr>\n",
       "    <tr>\n",
       "      <th>ARROIO DO MEIO</th>\n",
       "      <td>602.338013</td>\n",
       "    </tr>\n",
       "  </tbody>\n",
       "</table>\n",
       "</div>"
      ],
      "text/plain": [
       "                      enemMediaGeral\n",
       "cidade                              \n",
       "JOINVILLE                 652.564026\n",
       "MONTE SIAO                635.815979\n",
       "AREADO                    626.937988\n",
       "IRARA                     620.340027\n",
       "HOLAMBRA                  618.755005\n",
       "RIO CASCA                 616.531982\n",
       "PECANHA                   616.140015\n",
       "PARAISOPOLIS              614.924011\n",
       "CASSIA                    612.809998\n",
       "BELO HORIZONTE            611.877991\n",
       "APIAI                     611.158020\n",
       "POJUCA                    607.794006\n",
       "BLUMENAU                  607.195999\n",
       "SABINOPOLIS               606.453979\n",
       "MONTE SANTO DE MINAS      605.203979\n",
       "BASTOS                    604.372009\n",
       "NOVA GRANADA              604.278015\n",
       "CONGONHAS                 603.328003\n",
       "CHAPECO                   602.870398\n",
       "ARROIO DO MEIO            602.338013"
      ]
     },
     "execution_count": 90,
     "metadata": {},
     "output_type": "execute_result"
    }
   ],
   "source": [
    "df_cond[['cidade','estado','regiao','enemMediaGeral']].groupby('cidade').agg('mean').sort_values('enemMediaGeral',ascending=False).head(20)"
   ]
  },
  {
   "cell_type": "code",
   "execution_count": 101,
   "metadata": {},
   "outputs": [
    {
     "data": {
      "text/plain": [
       "8              ACRELANDIA (AC)\n",
       "14             ACRELANDIA (AC)\n",
       "184                BUJARI (AC)\n",
       "189              CAPIXABA (AC)\n",
       "215       CRUZEIRO DO SUL (AC)\n",
       "                  ...         \n",
       "145325        VOTUPORANGA (SP)\n",
       "145326        VOTUPORANGA (SP)\n",
       "145333        VOTUPORANGA (SP)\n",
       "145339        VOTUPORANGA (SP)\n",
       "145340           ZACARIAS (SP)\n",
       "Length: 9859, dtype: object"
      ]
     },
     "execution_count": 101,
     "metadata": {},
     "output_type": "execute_result"
    }
   ],
   "source": [
    "df_cond['cidade']+' ('+df_cond['estado']+')'"
   ]
  },
  {
   "cell_type": "markdown",
   "metadata": {},
   "source": [
    "#### Escolas Públicas"
   ]
  },
  {
   "cell_type": "code",
   "execution_count": 87,
   "metadata": {},
   "outputs": [
    {
     "data": {
      "text/html": [
       "<div>\n",
       "<style scoped>\n",
       "    .dataframe tbody tr th:only-of-type {\n",
       "        vertical-align: middle;\n",
       "    }\n",
       "\n",
       "    .dataframe tbody tr th {\n",
       "        vertical-align: top;\n",
       "    }\n",
       "\n",
       "    .dataframe thead th {\n",
       "        text-align: right;\n",
       "    }\n",
       "</style>\n",
       "<table border=\"1\" class=\"dataframe\">\n",
       "  <thead>\n",
       "    <tr style=\"text-align: right;\">\n",
       "      <th></th>\n",
       "      <th>enemMediaGeral</th>\n",
       "    </tr>\n",
       "    <tr>\n",
       "      <th>cidade</th>\n",
       "      <th></th>\n",
       "    </tr>\n",
       "  </thead>\n",
       "  <tbody>\n",
       "    <tr>\n",
       "      <th>MONGAGUA</th>\n",
       "      <td>594.090027</td>\n",
       "    </tr>\n",
       "    <tr>\n",
       "      <th>FRANCO DA ROCHA</th>\n",
       "      <td>590.888000</td>\n",
       "    </tr>\n",
       "    <tr>\n",
       "      <th>REGISTRO</th>\n",
       "      <td>575.007996</td>\n",
       "    </tr>\n",
       "    <tr>\n",
       "      <th>BOTUCATU</th>\n",
       "      <td>561.007996</td>\n",
       "    </tr>\n",
       "    <tr>\n",
       "      <th>CAJAMAR</th>\n",
       "      <td>560.242004</td>\n",
       "    </tr>\n",
       "    <tr>\n",
       "      <th>PEDRO TEIXEIRA</th>\n",
       "      <td>558.044006</td>\n",
       "    </tr>\n",
       "    <tr>\n",
       "      <th>CACAPAVA</th>\n",
       "      <td>556.693970</td>\n",
       "    </tr>\n",
       "    <tr>\n",
       "      <th>FAXINAL DO SOTURNO</th>\n",
       "      <td>554.705994</td>\n",
       "    </tr>\n",
       "    <tr>\n",
       "      <th>MONTES CLAROS</th>\n",
       "      <td>554.700012</td>\n",
       "    </tr>\n",
       "    <tr>\n",
       "      <th>LORENA</th>\n",
       "      <td>554.310989</td>\n",
       "    </tr>\n",
       "    <tr>\n",
       "      <th>SELBACH</th>\n",
       "      <td>553.916016</td>\n",
       "    </tr>\n",
       "    <tr>\n",
       "      <th>PAULINIA</th>\n",
       "      <td>550.852010</td>\n",
       "    </tr>\n",
       "    <tr>\n",
       "      <th>ANTONIO PRADO</th>\n",
       "      <td>550.237000</td>\n",
       "    </tr>\n",
       "    <tr>\n",
       "      <th>SAO JOAO DO POLESINE</th>\n",
       "      <td>550.166016</td>\n",
       "    </tr>\n",
       "    <tr>\n",
       "      <th>VITORIA DA CONQUISTA</th>\n",
       "      <td>549.714996</td>\n",
       "    </tr>\n",
       "    <tr>\n",
       "      <th>MACAPARANA</th>\n",
       "      <td>546.302002</td>\n",
       "    </tr>\n",
       "    <tr>\n",
       "      <th>SAO JOAO DO PAU D ALHO</th>\n",
       "      <td>545.440002</td>\n",
       "    </tr>\n",
       "    <tr>\n",
       "      <th>ARMACAO DOS BUZIOS</th>\n",
       "      <td>545.088013</td>\n",
       "    </tr>\n",
       "    <tr>\n",
       "      <th>DIVINESIA</th>\n",
       "      <td>544.072021</td>\n",
       "    </tr>\n",
       "    <tr>\n",
       "      <th>ITAPIRA</th>\n",
       "      <td>543.971985</td>\n",
       "    </tr>\n",
       "  </tbody>\n",
       "</table>\n",
       "</div>"
      ],
      "text/plain": [
       "                        enemMediaGeral\n",
       "cidade                                \n",
       "MONGAGUA                    594.090027\n",
       "FRANCO DA ROCHA             590.888000\n",
       "REGISTRO                    575.007996\n",
       "BOTUCATU                    561.007996\n",
       "CAJAMAR                     560.242004\n",
       "PEDRO TEIXEIRA              558.044006\n",
       "CACAPAVA                    556.693970\n",
       "FAXINAL DO SOTURNO          554.705994\n",
       "MONTES CLAROS               554.700012\n",
       "LORENA                      554.310989\n",
       "SELBACH                     553.916016\n",
       "PAULINIA                    550.852010\n",
       "ANTONIO PRADO               550.237000\n",
       "SAO JOAO DO POLESINE        550.166016\n",
       "VITORIA DA CONQUISTA        549.714996\n",
       "MACAPARANA                  546.302002\n",
       "SAO JOAO DO PAU D ALHO      545.440002\n",
       "ARMACAO DOS BUZIOS          545.088013\n",
       "DIVINESIA                   544.072021\n",
       "ITAPIRA                     543.971985"
      ]
     },
     "execution_count": 87,
     "metadata": {},
     "output_type": "execute_result"
    }
   ],
   "source": [
    "df_pub[['cidade','enemMediaGeral']].groupby('cidade').agg('mean').sort_values('enemMediaGeral',ascending=False).head(20)"
   ]
  },
  {
   "cell_type": "markdown",
   "metadata": {},
   "source": [
    "### Notas do IDEB - anos iniciais"
   ]
  },
  {
   "cell_type": "code",
   "execution_count": 70,
   "metadata": {
    "scrolled": true
   },
   "outputs": [
    {
     "name": "stderr",
     "output_type": "stream",
     "text": [
      "/home/eduardo/anaconda3/lib/python3.7/site-packages/numpy/lib/histograms.py:908: RuntimeWarning: invalid value encountered in true_divide\n",
      "  return n/db/n.sum(), bin_edges\n"
     ]
    },
    {
     "data": {
      "image/png": "[encoded data removed]",
      "text/plain": [
       "<Figure size 432x288 with 1 Axes>"
      ]
     },
     "metadata": {
      "needs_background": "light"
     },
     "output_type": "display_data"
    }
   ],
   "source": [
    "state = 'BR'\n",
    "result_direc = 'results'\n",
    "df_esc = df_bras.copy()\n",
    "\n",
    "conditions = True;\n",
    "conditions &= df_esc['idebAI'] > 0\n",
    "\n",
    "df_pri = df_esc[conditions & (df_esc['dependenciaAdministrativaTxt'] == 'Privada')]\n",
    "df_pub = df_esc[conditions & ((df_esc['dependenciaAdministrativaTxt'] == 'Estadual') | (df_esc['dependenciaAdministrativaTxt'] == 'Municipal'))]\n",
    "\n",
    "plt.hist([df_pri['idebAI'],df_pub['idebAI']],\n",
    "         rwidth=3,\n",
    "         bins=43,\n",
    "         density=True,\n",
    "         histtype='stepfilled', alpha=0.7, label=['Privadas','Públicas'])\n",
    "\n",
    "plt.title(\"Pontuação média das escolas públicas no idebAI (\"+state.upper()+\")\");\n",
    "plt.xlabel('Média no idebAI')\n",
    "plt.legend()\n",
    "\n",
    "plt.savefig(path.join(result_direc, 'comp_pont_idebAI_' + state + '.png'), bbox_inches='tight')"
   ]
  },
  {
   "cell_type": "markdown",
   "metadata": {},
   "source": [
    "### Notas do IDEB - anos finais"
   ]
  },
  {
   "cell_type": "code",
   "execution_count": 74,
   "metadata": {},
   "outputs": [
    {
     "name": "stderr",
     "output_type": "stream",
     "text": [
      "/home/eduardo/anaconda3/lib/python3.7/site-packages/numpy/lib/histograms.py:908: RuntimeWarning: invalid value encountered in true_divide\n",
      "  return n/db/n.sum(), bin_edges\n"
     ]
    },
    {
     "data": {
      "image/png": "[encoded data removed]",
      "text/plain": [
       "<Figure size 432x288 with 1 Axes>"
      ]
     },
     "metadata": {
      "needs_background": "light"
     },
     "output_type": "display_data"
    }
   ],
   "source": [
    "state = 'BR'\n",
    "result_direc = 'results'\n",
    "df_esc = df_bras.copy()\n",
    "\n",
    "conditions = True;\n",
    "conditions &= df_esc['idebAF'] > 0\n",
    "\n",
    "df_pri = df_esc[conditions & (df_esc['dependenciaAdministrativaTxt'] == 'Privada')]\n",
    "df_pub = df_esc[conditions & ((df_esc['dependenciaAdministrativaTxt'] == 'Estadual') | (df_esc['dependenciaAdministrativaTxt'] == 'Municipal'))]\n",
    "\n",
    "plt.hist([df_pri['idebAF'],df_pub['idebAF']],\n",
    "         rwidth=3,\n",
    "         bins=35,\n",
    "         density=True,\n",
    "         histtype='stepfilled', alpha=0.7, label=['Privadas','Públicas'])\n",
    "\n",
    "plt.title(\"Pontuação média das escolas públicas no idebAF (\"+state.upper()+\")\");\n",
    "plt.xlabel('Média no idebAF')\n",
    "plt.legend()\n",
    "\n",
    "plt.savefig(path.join(result_direc, 'comp_pont_idebAF_' + state + '.png'), bbox_inches='tight')"
   ]
  },
  {
   "cell_type": "code",
   "execution_count": 79,
   "metadata": {},
   "outputs": [
    {
     "data": {
      "text/html": [
       "<div>\n",
       "<style scoped>\n",
       "    .dataframe tbody tr th:only-of-type {\n",
       "        vertical-align: middle;\n",
       "    }\n",
       "\n",
       "    .dataframe tbody tr th {\n",
       "        vertical-align: top;\n",
       "    }\n",
       "\n",
       "    .dataframe thead th {\n",
       "        text-align: right;\n",
       "    }\n",
       "</style>\n",
       "<table border=\"1\" class=\"dataframe\">\n",
       "  <thead>\n",
       "    <tr style=\"text-align: right;\">\n",
       "      <th></th>\n",
       "      <th>anoCenso</th>\n",
       "      <th>cod</th>\n",
       "      <th>codCidade</th>\n",
       "      <th>situacaoFuncionamento</th>\n",
       "      <th>dependenciaAdministrativa</th>\n",
       "      <th>idebAI</th>\n",
       "      <th>idebAF</th>\n",
       "      <th>enemMediaGeral</th>\n",
       "    </tr>\n",
       "    <tr>\n",
       "      <th>cidade</th>\n",
       "      <th></th>\n",
       "      <th></th>\n",
       "      <th></th>\n",
       "      <th></th>\n",
       "      <th></th>\n",
       "      <th></th>\n",
       "      <th></th>\n",
       "      <th></th>\n",
       "    </tr>\n",
       "  </thead>\n",
       "  <tbody>\n",
       "    <tr>\n",
       "      <th>ABADIA DE GOIAS</th>\n",
       "      <td>2013.0</td>\n",
       "      <td>5.209086e+07</td>\n",
       "      <td>5200050.0</td>\n",
       "      <td>1.0</td>\n",
       "      <td>3.000000</td>\n",
       "      <td>0.750000</td>\n",
       "      <td>1.062500</td>\n",
       "      <td>58.654751</td>\n",
       "    </tr>\n",
       "    <tr>\n",
       "      <th>ABADIA DOS DOURADOS</th>\n",
       "      <td>2013.0</td>\n",
       "      <td>3.124381e+07</td>\n",
       "      <td>3100104.0</td>\n",
       "      <td>1.0</td>\n",
       "      <td>3.000000</td>\n",
       "      <td>0.825000</td>\n",
       "      <td>0.700000</td>\n",
       "      <td>60.862000</td>\n",
       "    </tr>\n",
       "    <tr>\n",
       "      <th>ABADIANIA</th>\n",
       "      <td>2013.0</td>\n",
       "      <td>5.207635e+07</td>\n",
       "      <td>5200100.0</td>\n",
       "      <td>1.0</td>\n",
       "      <td>3.083333</td>\n",
       "      <td>1.608333</td>\n",
       "      <td>0.408333</td>\n",
       "      <td>42.434832</td>\n",
       "    </tr>\n",
       "    <tr>\n",
       "      <th>ABAETE</th>\n",
       "      <td>2013.0</td>\n",
       "      <td>3.114323e+07</td>\n",
       "      <td>3100203.0</td>\n",
       "      <td>1.0</td>\n",
       "      <td>3.045455</td>\n",
       "      <td>0.859091</td>\n",
       "      <td>0.422727</td>\n",
       "      <td>51.038910</td>\n",
       "    </tr>\n",
       "    <tr>\n",
       "      <th>ABAETETUBA</th>\n",
       "      <td>2013.0</td>\n",
       "      <td>1.518246e+07</td>\n",
       "      <td>1500107.0</td>\n",
       "      <td>1.0</td>\n",
       "      <td>3.100000</td>\n",
       "      <td>1.225000</td>\n",
       "      <td>0.000000</td>\n",
       "      <td>5.438320</td>\n",
       "    </tr>\n",
       "    <tr>\n",
       "      <th>...</th>\n",
       "      <td>...</td>\n",
       "      <td>...</td>\n",
       "      <td>...</td>\n",
       "      <td>...</td>\n",
       "      <td>...</td>\n",
       "      <td>...</td>\n",
       "      <td>...</td>\n",
       "      <td>...</td>\n",
       "    </tr>\n",
       "    <tr>\n",
       "      <th>XAPURI</th>\n",
       "      <td>2013.0</td>\n",
       "      <td>1.202396e+07</td>\n",
       "      <td>1200708.0</td>\n",
       "      <td>1.0</td>\n",
       "      <td>2.442857</td>\n",
       "      <td>0.200000</td>\n",
       "      <td>0.102857</td>\n",
       "      <td>12.728743</td>\n",
       "    </tr>\n",
       "    <tr>\n",
       "      <th>XAVANTINA</th>\n",
       "      <td>2013.0</td>\n",
       "      <td>4.206542e+07</td>\n",
       "      <td>4219606.0</td>\n",
       "      <td>1.0</td>\n",
       "      <td>2.571429</td>\n",
       "      <td>0.828571</td>\n",
       "      <td>1.428571</td>\n",
       "      <td>67.771428</td>\n",
       "    </tr>\n",
       "    <tr>\n",
       "      <th>XAXIM</th>\n",
       "      <td>2013.0</td>\n",
       "      <td>4.211413e+07</td>\n",
       "      <td>4219705.0</td>\n",
       "      <td>1.0</td>\n",
       "      <td>2.875000</td>\n",
       "      <td>1.225000</td>\n",
       "      <td>1.166667</td>\n",
       "      <td>83.935584</td>\n",
       "    </tr>\n",
       "    <tr>\n",
       "      <th>ZACARIAS</th>\n",
       "      <td>2013.0</td>\n",
       "      <td>3.510776e+07</td>\n",
       "      <td>3557154.0</td>\n",
       "      <td>1.0</td>\n",
       "      <td>2.666667</td>\n",
       "      <td>0.000000</td>\n",
       "      <td>1.566667</td>\n",
       "      <td>155.372670</td>\n",
       "    </tr>\n",
       "    <tr>\n",
       "      <th>ZORTEA</th>\n",
       "      <td>2013.0</td>\n",
       "      <td>4.211357e+07</td>\n",
       "      <td>4219853.0</td>\n",
       "      <td>1.0</td>\n",
       "      <td>2.500000</td>\n",
       "      <td>1.500000</td>\n",
       "      <td>1.150000</td>\n",
       "      <td>126.228500</td>\n",
       "    </tr>\n",
       "  </tbody>\n",
       "</table>\n",
       "<p>5145 rows × 8 columns</p>\n",
       "</div>"
      ],
      "text/plain": [
       "                     anoCenso           cod  codCidade  situacaoFuncionamento  \\\n",
       "cidade                                                                          \n",
       "ABADIA DE GOIAS        2013.0  5.209086e+07  5200050.0                    1.0   \n",
       "ABADIA DOS DOURADOS    2013.0  3.124381e+07  3100104.0                    1.0   \n",
       "ABADIANIA              2013.0  5.207635e+07  5200100.0                    1.0   \n",
       "ABAETE                 2013.0  3.114323e+07  3100203.0                    1.0   \n",
       "ABAETETUBA             2013.0  1.518246e+07  1500107.0                    1.0   \n",
       "...                       ...           ...        ...                    ...   \n",
       "XAPURI                 2013.0  1.202396e+07  1200708.0                    1.0   \n",
       "XAVANTINA              2013.0  4.206542e+07  4219606.0                    1.0   \n",
       "XAXIM                  2013.0  4.211413e+07  4219705.0                    1.0   \n",
       "ZACARIAS               2013.0  3.510776e+07  3557154.0                    1.0   \n",
       "ZORTEA                 2013.0  4.211357e+07  4219853.0                    1.0   \n",
       "\n",
       "                     dependenciaAdministrativa    idebAI    idebAF  \\\n",
       "cidade                                                               \n",
       "ABADIA DE GOIAS                       3.000000  0.750000  1.062500   \n",
       "ABADIA DOS DOURADOS                   3.000000  0.825000  0.700000   \n",
       "ABADIANIA                             3.083333  1.608333  0.408333   \n",
       "ABAETE                                3.045455  0.859091  0.422727   \n",
       "ABAETETUBA                            3.100000  1.225000  0.000000   \n",
       "...                                        ...       ...       ...   \n",
       "XAPURI                                2.442857  0.200000  0.102857   \n",
       "XAVANTINA                             2.571429  0.828571  1.428571   \n",
       "XAXIM                                 2.875000  1.225000  1.166667   \n",
       "ZACARIAS                              2.666667  0.000000  1.566667   \n",
       "ZORTEA                                2.500000  1.500000  1.150000   \n",
       "\n",
       "                     enemMediaGeral  \n",
       "cidade                               \n",
       "ABADIA DE GOIAS           58.654751  \n",
       "ABADIA DOS DOURADOS       60.862000  \n",
       "ABADIANIA                 42.434832  \n",
       "ABAETE                    51.038910  \n",
       "ABAETETUBA                 5.438320  \n",
       "...                             ...  \n",
       "XAPURI                    12.728743  \n",
       "XAVANTINA                 67.771428  \n",
       "XAXIM                     83.935584  \n",
       "ZACARIAS                 155.372670  \n",
       "ZORTEA                   126.228500  \n",
       "\n",
       "[5145 rows x 8 columns]"
      ]
     },
     "execution_count": 79,
     "metadata": {},
     "output_type": "execute_result"
    }
   ],
   "source": [
    "df_bras.groupby('cidade').agg('mean')"
   ]
  },
  {
   "cell_type": "code",
   "execution_count": null,
   "metadata": {},
   "outputs": [],
   "source": []
  }
 ],
 "metadata": {
  "kernelspec": {
   "display_name": "Python 3",
   "language": "python",
   "name": "python3"
  },
  "language_info": {
   "codemirror_mode": {
    "name": "ipython",
    "version": 3
   },
   "file_extension": ".py",
   "mimetype": "text/x-python",
   "name": "python",
   "nbconvert_exporter": "python",
   "pygments_lexer": "ipython3",
   "version": "3.7.6"
  }
 },
 "nbformat": 4,
 "nbformat_minor": 4
}
