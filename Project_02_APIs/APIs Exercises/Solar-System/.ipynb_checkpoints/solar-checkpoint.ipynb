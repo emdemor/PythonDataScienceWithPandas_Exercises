{
 "cells": [
  {
   "cell_type": "markdown",
   "metadata": {},
   "source": [
    "# Solar System Properties"
   ]
  },
  {
   "cell_type": "raw",
   "metadata": {},
   "source": [
    "https://api.le-systeme-solaire.net/en/"
   ]
  },
  {
   "cell_type": "code",
   "execution_count": 14,
   "metadata": {},
   "outputs": [],
   "source": [
    "import pandas as pd\n",
    "import requests, os, glob\n",
    "import matplotlib.pyplot as plt\n",
    "import numpy as np\n",
    "from getpass import getpass\n",
    "from tqdm import tqdm\n",
    "from os import path\n",
    "pd.options.display.max_columns = 30"
   ]
  },
  {
   "cell_type": "code",
   "execution_count": 15,
   "metadata": {},
   "outputs": [],
   "source": [
    "url_base = 'https://api.le-systeme-solaire.net/rest/'\n",
    "query = 'bodies/'\n",
    "q_ans = requests.get(url_base+query)\n",
    "\n",
    "if q_ans.status_code == 200:\n",
    "    data = q_ans.json()\n",
    "    #data = pd.DataFrame(q_ans.json())\n",
    "    STATUS_OK = True\n",
    "else:\n",
    "    print('Error. It was not possible to import file.')\n",
    "    STATUS_OK = False\n",
    "    \n",
    "\n",
    "    \n",
    "# check https://api.le-systeme-solaire.net/en/ for adopted unities\n",
    "df = pd.json_normalize(data['bodies'], max_level=2)"
   ]
  },
  {
   "cell_type": "code",
   "execution_count": 19,
   "metadata": {},
   "outputs": [],
   "source": [
    "G = 39.42210267428647826610\n",
    "c = 63197.790926097720186\n",
    "M = 1\n",
    "rs = 2*M*G/c**2\n",
    "a = 0.387\n",
    "e = 0.206\n",
    "m = 1.652052996452e-7\n",
    "T = 87.97\n",
    "n = 36524.3/T\n",
    "alpha = a*(1-e**2) \n",
    "h = np.sqrt(alpha*M*G/c**2)\n",
    "l = m*h\n",
    "E0 = m*(M*G/c**2)**2 *(e**2 - 1.)/(2.*h**2)\n",
    "E = m+E0\n",
    "Rmin = a*(1-e)\n",
    "Rmax = a*(1+e)\n",
    "wmin = 1/Rmax\n",
    "wmax = 1/Rmin"
   ]
  },
  {
   "cell_type": "code",
   "execution_count": 56,
   "metadata": {},
   "outputs": [],
   "source": [
    "def grav_newton(x,t,par):\n",
    "    \n",
    "    w = x[0]\n",
    "    y = x[1]\n",
    "    uL = par[0]\n",
    "    \n",
    "    # mathematical equations\n",
    "    diff_w = y\n",
    "    diff_y = (M*G)/(c*h)**2-w\n",
    "    \n",
    "    return [diff_w,diff_y]\n",
    "\n",
    "def grav_einstein(x,t,par):\n",
    "    \n",
    "    w = x[0]\n",
    "    y = x[1]\n",
    "    uL = par[0]\n",
    "    \n",
    "    # mathematical equations\n",
    "    diff_w = y\n",
    "    diff_y = (M*G)/(c*h)**2-w+3*(M*G)*(w/c)**2\n",
    "    \n",
    "    return [diff_w,diff_y]\n",
    "\n",
    "def grav_lyra(x,t,par):\n",
    "    \n",
    "    w = x[0]\n",
    "    y = x[1]\n",
    "    uL = par[0]\n",
    "    \n",
    "    # mathematical equations\n",
    "    diff_w = y\n",
    "    diff_y = (M*G)/(c*h)**2+uL*(1+m*uL)-w*(1+6*m*uL)+3*(M*G)*(w/c)**2\n",
    "    #diff_y = m/h**2-w\n",
    "    \n",
    "    return [diff_w,diff_y]"
   ]
  },
  {
   "cell_type": "code",
   "execution_count": 10,
   "metadata": {},
   "outputs": [],
   "source": []
  },
  {
   "cell_type": "code",
   "execution_count": 57,
   "metadata": {},
   "outputs": [],
   "source": [
    "from scipy.integrate import odeint\n",
    "tini = 0\n",
    "tfim = 10\n",
    "\n",
    "time_list = np.linspace(tini,tfim,1000000)\n",
    "x0 = [wmax,0]\n",
    "par = [0]\n",
    "\n",
    "xn = odeint(grav_newton,x0,time_list,args = ([0],))\n",
    "xe = odeint(grav_einstein,x0,time_list,args = ([0],))\n",
    "xl = odeint(grav_lyra,x0,time_list,args = ([0.0001],))"
   ]
  },
  {
   "cell_type": "code",
   "execution_count": null,
   "metadata": {},
   "outputs": [],
   "source": []
  },
  {
   "cell_type": "code",
   "execution_count": 62,
   "metadata": {},
   "outputs": [
    {
     "data": {
      "image/png": "[encoded data removed]",
      "text/plain": [
       "<Figure size 432x288 with 1 Axes>"
      ]
     },
     "metadata": {
      "needs_background": "light"
     },
     "output_type": "display_data"
    }
   ],
   "source": [
    "j=0.01\n",
    "\n",
    "plt.plot(time_list,xn[:,0])\n",
    "plt.plot(time_list,xe[:,0])\n",
    "plt.plot(time_list,xl[:,0])\n",
    "plt.xlim(2*3.141592653-j, 2*3.141592653+j)\n",
    "plt.ylim(0.9*wmax, 1.1*wmax)\n",
    "plt.show()"
   ]
  },
  {
   "cell_type": "code",
   "execution_count": 59,
   "metadata": {},
   "outputs": [
    {
     "data": {
      "text/plain": [
       "6.283185306"
      ]
     },
     "execution_count": 59,
     "metadata": {},
     "output_type": "execute_result"
    }
   ],
   "source": [
    "2*3.141592653"
   ]
  },
  {
   "cell_type": "code",
   "execution_count": null,
   "metadata": {},
   "outputs": [],
   "source": []
  }
 ],
 "metadata": {
  "kernelspec": {
   "display_name": "Python 3",
   "language": "python",
   "name": "python3"
  },
  "language_info": {
   "codemirror_mode": {
    "name": "ipython",
    "version": 3
   },
   "file_extension": ".py",
   "mimetype": "text/x-python",
   "name": "python",
   "nbconvert_exporter": "python",
   "pygments_lexer": "ipython3",
   "version": "3.7.6"
  }
 },
 "nbformat": 4,
 "nbformat_minor": 4
}
