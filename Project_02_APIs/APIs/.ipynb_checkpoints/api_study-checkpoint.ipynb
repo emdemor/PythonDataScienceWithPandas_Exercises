{
 "cells": [
  {
   "cell_type": "code",
   "execution_count": 1,
   "metadata": {},
   "outputs": [],
   "source": [
    "import pandas as pd\n",
    "import requests\n",
    "from getpass import getpass\n",
    "pd.options.display.max_columns = 30"
   ]
  },
  {
   "cell_type": "markdown",
   "metadata": {},
   "source": [
    "## API de Localidades"
   ]
  },
  {
   "cell_type": "raw",
   "metadata": {},
   "source": [
    "https://servicodados.ibge.gov.br/api/docs/localidades"
   ]
  },
  {
   "cell_type": "code",
   "execution_count": 84,
   "metadata": {},
   "outputs": [
    {
     "data": {
      "text/html": [
       "<div>\n",
       "<style scoped>\n",
       "    .dataframe tbody tr th:only-of-type {\n",
       "        vertical-align: middle;\n",
       "    }\n",
       "\n",
       "    .dataframe tbody tr th {\n",
       "        vertical-align: top;\n",
       "    }\n",
       "\n",
       "    .dataframe thead th {\n",
       "        text-align: right;\n",
       "    }\n",
       "</style>\n",
       "<table border=\"1\" class=\"dataframe\">\n",
       "  <thead>\n",
       "    <tr style=\"text-align: right;\">\n",
       "      <th></th>\n",
       "      <th>id</th>\n",
       "      <th>nome</th>\n",
       "      <th>municipio</th>\n",
       "    </tr>\n",
       "  </thead>\n",
       "  <tbody>\n",
       "    <tr>\n",
       "      <th>0</th>\n",
       "      <td>520005005</td>\n",
       "      <td>Abadia de Goiás</td>\n",
       "      <td>{'id': 5200050, 'nome': 'Abadia de Goiás', 'mi...</td>\n",
       "    </tr>\n",
       "    <tr>\n",
       "      <th>1</th>\n",
       "      <td>310010405</td>\n",
       "      <td>Abadia dos Dourados</td>\n",
       "      <td>{'id': 3100104, 'nome': 'Abadia dos Dourados',...</td>\n",
       "    </tr>\n",
       "    <tr>\n",
       "      <th>2</th>\n",
       "      <td>520010005</td>\n",
       "      <td>Abadiânia</td>\n",
       "      <td>{'id': 5200100, 'nome': 'Abadiânia', 'microrre...</td>\n",
       "    </tr>\n",
       "    <tr>\n",
       "      <th>3</th>\n",
       "      <td>520010010</td>\n",
       "      <td>Posse d'Abadia</td>\n",
       "      <td>{'id': 5200100, 'nome': 'Abadiânia', 'microrre...</td>\n",
       "    </tr>\n",
       "    <tr>\n",
       "      <th>4</th>\n",
       "      <td>310020305</td>\n",
       "      <td>Abaeté</td>\n",
       "      <td>{'id': 3100203, 'nome': 'Abaeté', 'microrregia...</td>\n",
       "    </tr>\n",
       "    <tr>\n",
       "      <th>...</th>\n",
       "      <td>...</td>\n",
       "      <td>...</td>\n",
       "      <td>...</td>\n",
       "    </tr>\n",
       "    <tr>\n",
       "      <th>10491</th>\n",
       "      <td>293360415</td>\n",
       "      <td>Iguira</td>\n",
       "      <td>{'id': 2933604, 'nome': 'Xique-Xique', 'micror...</td>\n",
       "    </tr>\n",
       "    <tr>\n",
       "      <th>10492</th>\n",
       "      <td>251740705</td>\n",
       "      <td>Zabelê</td>\n",
       "      <td>{'id': 2517407, 'nome': 'Zabelê', 'microrregia...</td>\n",
       "    </tr>\n",
       "    <tr>\n",
       "      <th>10493</th>\n",
       "      <td>355715405</td>\n",
       "      <td>Zacarias</td>\n",
       "      <td>{'id': 3557154, 'nome': 'Zacarias', 'microrreg...</td>\n",
       "    </tr>\n",
       "    <tr>\n",
       "      <th>10494</th>\n",
       "      <td>211400705</td>\n",
       "      <td>Zé Doca</td>\n",
       "      <td>{'id': 2114007, 'nome': 'Zé Doca', 'microrregi...</td>\n",
       "    </tr>\n",
       "    <tr>\n",
       "      <th>10495</th>\n",
       "      <td>421985305</td>\n",
       "      <td>Zortéa</td>\n",
       "      <td>{'id': 4219853, 'nome': 'Zortéa', 'microrregia...</td>\n",
       "    </tr>\n",
       "  </tbody>\n",
       "</table>\n",
       "<p>10496 rows × 3 columns</p>\n",
       "</div>"
      ],
      "text/plain": [
       "              id                 nome  \\\n",
       "0      520005005      Abadia de Goiás   \n",
       "1      310010405  Abadia dos Dourados   \n",
       "2      520010005            Abadiânia   \n",
       "3      520010010       Posse d'Abadia   \n",
       "4      310020305               Abaeté   \n",
       "...          ...                  ...   \n",
       "10491  293360415               Iguira   \n",
       "10492  251740705               Zabelê   \n",
       "10493  355715405             Zacarias   \n",
       "10494  211400705              Zé Doca   \n",
       "10495  421985305               Zortéa   \n",
       "\n",
       "                                               municipio  \n",
       "0      {'id': 5200050, 'nome': 'Abadia de Goiás', 'mi...  \n",
       "1      {'id': 3100104, 'nome': 'Abadia dos Dourados',...  \n",
       "2      {'id': 5200100, 'nome': 'Abadiânia', 'microrre...  \n",
       "3      {'id': 5200100, 'nome': 'Abadiânia', 'microrre...  \n",
       "4      {'id': 3100203, 'nome': 'Abaeté', 'microrregia...  \n",
       "...                                                  ...  \n",
       "10491  {'id': 2933604, 'nome': 'Xique-Xique', 'micror...  \n",
       "10492  {'id': 2517407, 'nome': 'Zabelê', 'microrregia...  \n",
       "10493  {'id': 3557154, 'nome': 'Zacarias', 'microrreg...  \n",
       "10494  {'id': 2114007, 'nome': 'Zé Doca', 'microrregi...  \n",
       "10495  {'id': 4219853, 'nome': 'Zortéa', 'microrregia...  \n",
       "\n",
       "[10496 rows x 3 columns]"
      ]
     },
     "execution_count": 84,
     "metadata": {},
     "output_type": "execute_result"
    }
   ],
   "source": [
    "url = 'https://servicodados.ibge.gov.br/api/v1/localidades/distritos'\n",
    "data = requests.get(url).json()\n",
    "df_cid = pd.DataFrame(data)\n",
    "df_cid"
   ]
  },
  {
   "cell_type": "code",
   "execution_count": 146,
   "metadata": {},
   "outputs": [],
   "source": [
    "municipio = 'Poços de Caldas'\n",
    "\n",
    "# Loocking for perfect occurrences\n",
    "df_cit_info = pd.DataFrame(df_cid[df_cid['nome'].str.match(municipio)]['municipio'].iloc[0])\n",
    "\n",
    "# Loocking for substrings\n",
    "#df_cit_info = pd.DataFrame(df_cid[df_cid['nome'].str.contains(municipio)]['municipio'].iloc)"
   ]
  },
  {
   "cell_type": "code",
   "execution_count": 154,
   "metadata": {},
   "outputs": [
    {
     "data": {
      "text/html": [
       "<div>\n",
       "<style scoped>\n",
       "    .dataframe tbody tr th:only-of-type {\n",
       "        vertical-align: middle;\n",
       "    }\n",
       "\n",
       "    .dataframe tbody tr th {\n",
       "        vertical-align: top;\n",
       "    }\n",
       "\n",
       "    .dataframe thead th {\n",
       "        text-align: right;\n",
       "    }\n",
       "</style>\n",
       "<table border=\"1\" class=\"dataframe\">\n",
       "  <thead>\n",
       "    <tr style=\"text-align: right;\">\n",
       "      <th></th>\n",
       "      <th>id</th>\n",
       "      <th>nome</th>\n",
       "      <th>microrregiao</th>\n",
       "    </tr>\n",
       "  </thead>\n",
       "  <tbody>\n",
       "    <tr>\n",
       "      <th>id</th>\n",
       "      <td>3151800</td>\n",
       "      <td>Poços de Caldas</td>\n",
       "      <td>31051</td>\n",
       "    </tr>\n",
       "    <tr>\n",
       "      <th>mesorregiao</th>\n",
       "      <td>3151800</td>\n",
       "      <td>Poços de Caldas</td>\n",
       "      <td>{'id': 3110, 'nome': 'Sul/Sudoeste de Minas', ...</td>\n",
       "    </tr>\n",
       "    <tr>\n",
       "      <th>nome</th>\n",
       "      <td>3151800</td>\n",
       "      <td>Poços de Caldas</td>\n",
       "      <td>Poços de Caldas</td>\n",
       "    </tr>\n",
       "  </tbody>\n",
       "</table>\n",
       "</div>"
      ],
      "text/plain": [
       "                  id             nome  \\\n",
       "id           3151800  Poços de Caldas   \n",
       "mesorregiao  3151800  Poços de Caldas   \n",
       "nome         3151800  Poços de Caldas   \n",
       "\n",
       "                                                  microrregiao  \n",
       "id                                                       31051  \n",
       "mesorregiao  {'id': 3110, 'nome': 'Sul/Sudoeste de Minas', ...  \n",
       "nome                                           Poços de Caldas  "
      ]
     },
     "execution_count": 154,
     "metadata": {},
     "output_type": "execute_result"
    }
   ],
   "source": [
    "df_cit_info"
   ]
  },
  {
   "cell_type": "code",
   "execution_count": 162,
   "metadata": {},
   "outputs": [
    {
     "data": {
      "text/plain": [
       "{'id': 3151800,\n",
       " 'nome': 'Poços de Caldas',\n",
       " 'microrregiao': {'id': 31051,\n",
       "  'nome': 'Poços de Caldas',\n",
       "  'mesorregiao': {'id': 3110,\n",
       "   'nome': 'Sul/Sudoeste de Minas',\n",
       "   'UF': {'id': 31,\n",
       "    'sigla': 'MG',\n",
       "    'nome': 'Minas Gerais',\n",
       "    'regiao': {'id': 3, 'sigla': 'SE', 'nome': 'Sudeste'}}}}}"
      ]
     },
     "execution_count": 162,
     "metadata": {},
     "output_type": "execute_result"
    }
   ],
   "source": [
    "city_prop = df_cid[df_cid['nome'].str.match(municipio)]['municipio'].iloc[0]\n",
    "city_prop"
   ]
  },
  {
   "cell_type": "code",
   "execution_count": 165,
   "metadata": {},
   "outputs": [
    {
     "data": {
      "text/plain": [
       "'Poços de Caldas'"
      ]
     },
     "execution_count": 165,
     "metadata": {},
     "output_type": "execute_result"
    }
   ],
   "source": [
    "city_prop['nome']"
   ]
  },
  {
   "cell_type": "markdown",
   "metadata": {},
   "source": [
    "## API de Malhas Geográficas"
   ]
  },
  {
   "cell_type": "raw",
   "metadata": {},
   "source": [
    "https://servicodados.ibge.gov.br/api/docs/malhas?versao=2"
   ]
  },
  {
   "cell_type": "code",
   "execution_count": 175,
   "metadata": {},
   "outputs": [],
   "source": [
    "import requests\n",
    "import shutil\n",
    "\n",
    "r = requests.get('http://servicodados.ibge.gov.br/api/v2/malhas/3151800?view=browser', stream=True)\n",
    "if r.status_code == 200:\n",
    "    with open('malhas_geograficas/pocos-de-caldas.svg', 'wb') as f:\n",
    "        r.raw.decode_content = True\n",
    "        shutil.copyfileobj(r.raw, f)"
   ]
  },
  {
   "cell_type": "code",
   "execution_count": 176,
   "metadata": {},
   "outputs": [],
   "source": [
    "\n",
    "r = requests.get('http://servicodados.ibge.gov.br/api/v2/malhas/31051?resolucao=5&view=browser', stream=True)\n",
    "if r.status_code == 200:\n",
    "    with open('malhas_geograficas/pocos-de-caldas-microregiao.svg', 'wb') as f:\n",
    "        r.raw.decode_content = True\n",
    "        shutil.copyfileobj(r.raw, f)    "
   ]
  },
  {
   "cell_type": "code",
   "execution_count": 181,
   "metadata": {},
   "outputs": [],
   "source": [
    "r = requests.get('http://servicodados.ibge.gov.br/api/v2/malhas/3110?resolucao=4&view=browser', stream=True)\n",
    "if r.status_code == 200:\n",
    "    with open('malhas_geograficas/sul-de-minas.svg', 'wb') as f:\n",
    "        r.raw.decode_content = True\n",
    "        shutil.copyfileobj(r.raw, f)   "
   ]
  },
  {
   "cell_type": "code",
   "execution_count": 178,
   "metadata": {},
   "outputs": [],
   "source": [
    "r = requests.get('http://servicodados.ibge.gov.br/api/v2/malhas/31?resolucao=3&view=browser', stream=True)\n",
    "if r.status_code == 200:\n",
    "    with open('malhas_geograficas/minas.svg', 'wb') as f:\n",
    "        r.raw.decode_content = True\n",
    "        shutil.copyfileobj(r.raw, f)   "
   ]
  },
  {
   "cell_type": "code",
   "execution_count": 182,
   "metadata": {},
   "outputs": [],
   "source": [
    "r = requests.get('http://servicodados.ibge.gov.br/api/v2/malhas/3?resolucao=2&view=browser', stream=True)\n",
    "if r.status_code == 200:\n",
    "    with open('malhas_geograficas/sudeste.svg', 'wb') as f:\n",
    "        r.raw.decode_content = True\n",
    "        shutil.copyfileobj(r.raw, f)   "
   ]
  },
  {
   "cell_type": "code",
   "execution_count": 180,
   "metadata": {},
   "outputs": [],
   "source": [
    "r = requests.get('http://servicodados.ibge.gov.br/api/v2/malhas?view=browser', stream=True)\n",
    "if r.status_code == 200:\n",
    "    with open('malhas_geograficas/brasil.svg', 'wb') as f:\n",
    "        r.raw.decode_content = True\n",
    "        shutil.copyfileobj(r.raw, f)"
   ]
  },
  {
   "cell_type": "code",
   "execution_count": 166,
   "metadata": {},
   "outputs": [],
   "source": []
  },
  {
   "cell_type": "markdown",
   "metadata": {},
   "source": [
    "## API de Projeções"
   ]
  },
  {
   "cell_type": "raw",
   "metadata": {},
   "source": [
    "https://servicodados.ibge.gov.br/api/docs/projecoes?versao=1"
   ]
  },
  {
   "cell_type": "code",
   "execution_count": 192,
   "metadata": {},
   "outputs": [
    {
     "data": {
      "text/plain": [
       "{'localidade': 'BR',\n",
       " 'horario': '21/06/2020 03:11:18',\n",
       " 'projecao': {'populacao': 211676626,\n",
       "  'periodoMedio': {'incrementoPopulacional': 19978,\n",
       "   'nascimento': 12000,\n",
       "   'obito': 45000}}}"
      ]
     },
     "execution_count": 192,
     "metadata": {},
     "output_type": "execute_result"
    }
   ],
   "source": [
    "url = 'https://servicodados.ibge.gov.br/api/v1/projecoes/populacao/BR'\n",
    "data = requests.get(url).json()\n",
    "data"
   ]
  },
  {
   "cell_type": "code",
   "execution_count": null,
   "metadata": {},
   "outputs": [],
   "source": []
  },
  {
   "cell_type": "markdown",
   "metadata": {},
   "source": [
    "## NOMES"
   ]
  },
  {
   "cell_type": "raw",
   "metadata": {},
   "source": [
    "https://servicodados.ibge.gov.br/api/docs/censos/nomes?versao=2"
   ]
  },
  {
   "cell_type": "code",
   "execution_count": 259,
   "metadata": {},
   "outputs": [],
   "source": [
    "import matplotlib.pyplot as plt\n",
    "import numpy as np"
   ]
  },
  {
   "cell_type": "code",
   "execution_count": 294,
   "metadata": {},
   "outputs": [
    {
     "data": {
      "text/plain": [
       "([0, 1, 2, 3, 4, 5, 6, 7, 8], <a list of 9 Text xticklabel objects>)"
      ]
     },
     "execution_count": 294,
     "metadata": {},
     "output_type": "execute_result"
    },
    {
     "data": {
      "image/png": "[encoded data removed]",
      "text/plain": [
       "<Figure size 432x288 with 1 Axes>"
      ]
     },
     "metadata": {
      "needs_background": "light"
     },
     "output_type": "display_data"
    }
   ],
   "source": [
    "name_str1 = 'José'\n",
    "url = 'https://servicodados.ibge.gov.br/api/v2/censos/nomes/'+name_str1\n",
    "data = requests.get(url).json()\n",
    "df_nome = pd.DataFrame(data)\n",
    "lista1 = df_nome.iloc[0]['res']\n",
    "lista1_per = list(map(lambda elem: elem['periodo'].replace(\"[\", \"\").replace(\"]\", \"\").replace(\",\", \" - \"),lista1))\n",
    "lista1_freq = list(map(lambda elem: elem['frequencia'],lista1))\n",
    "\n",
    "fig = plt.figure()\n",
    "ax = fig.add_axes([0,0,1,1])\n",
    "ax.bar(lista1_per,lista1_freq)\n",
    "\n",
    "ax.set_ylabel('Quantidade')\n",
    "ax.set_title('Quantidade de pessoas com nome '+ name_str1)\n",
    "\n",
    "plt.xticks(rotation=45, ha='right')"
   ]
  },
  {
   "cell_type": "code",
   "execution_count": 296,
   "metadata": {},
   "outputs": [
    {
     "data": {
      "text/plain": [
       "([0, 1, 2, 3, 4, 5, 6, 7, 8], <a list of 9 Text xticklabel objects>)"
      ]
     },
     "execution_count": 296,
     "metadata": {},
     "output_type": "execute_result"
    },
    {
     "data": {
      "image/png": "[encoded data removed]",
      "text/plain": [
       "<Figure size 432x288 with 1 Axes>"
      ]
     },
     "metadata": {
      "needs_background": "light"
     },
     "output_type": "display_data"
    }
   ],
   "source": [
    "name_str2 = 'Maria'\n",
    "url = 'https://servicodados.ibge.gov.br/api/v2/censos/nomes/'+name_str2\n",
    "data = requests.get(url).json()\n",
    "df_nome = pd.DataFrame(data)\n",
    "lista2 = df_nome.iloc[0]['res']\n",
    "lista2_per = list(map(lambda elem: elem['periodo'].replace(\"[\", \"\").replace(\"]\", \"\").replace(\",\", \" - \"),lista2))\n",
    "lista2_freq = list(map(lambda elem: elem['frequencia'],lista2))\n",
    "\n",
    "fig = plt.figure()\n",
    "ax = fig.add_axes([0,0,1,1])\n",
    "ax.bar(lista2_per,lista2_freq)\n",
    "\n",
    "ax.set_ylabel('Quantidade')\n",
    "ax.set_title('Quantidade de pessoas com nome '+ name_str2)\n",
    "\n",
    "plt.xticks(rotation=45, ha='right')"
   ]
  },
  {
   "cell_type": "code",
   "execution_count": 297,
   "metadata": {
    "scrolled": true
   },
   "outputs": [
    {
     "data": {
      "image/png": "[encoded data removed]",
      "text/plain": [
       "<Figure size 432x288 with 1 Axes>"
      ]
     },
     "metadata": {
      "needs_background": "light"
     },
     "output_type": "display_data"
    }
   ],
   "source": [
    "pos = np.arange(len(lista2_per))\n",
    "bar_width = 0.35\n",
    " \n",
    "plt.bar(pos,lista1_freq,bar_width)\n",
    "plt.bar(pos+bar_width,lista2_freq,bar_width)\n",
    "\n",
    "plt.xticks(pos, lista2_per)\n",
    "plt.xlabel('Década', fontsize=12)\n",
    "plt.ylabel('Quantidade', fontsize=12)\n",
    "plt.title('Comparação entre ' + name_str1 + ' e ' + name_str2 + ' no Brasil',fontsize=12)\n",
    "plt.legend([name_str1,name_str2],loc=2)\n",
    "\n",
    "plt.xticks(rotation=45, ha='right')\n",
    "#plt.show()\n",
    "\n",
    "plt.savefig('comparing_names_'+name_str1+'_x_'+name_str2+'.png', bbox_inches='tight')"
   ]
  },
  {
   "cell_type": "code",
   "execution_count": null,
   "metadata": {},
   "outputs": [],
   "source": []
  }
 ],
 "metadata": {
  "kernelspec": {
   "display_name": "Python 3",
   "language": "python",
   "name": "python3"
  },
  "language_info": {
   "codemirror_mode": {
    "name": "ipython",
    "version": 3
   },
   "file_extension": ".py",
   "mimetype": "text/x-python",
   "name": "python",
   "nbconvert_exporter": "python",
   "pygments_lexer": "ipython3",
   "version": "3.7.6"
  }
 },
 "nbformat": 4,
 "nbformat_minor": 4
}
