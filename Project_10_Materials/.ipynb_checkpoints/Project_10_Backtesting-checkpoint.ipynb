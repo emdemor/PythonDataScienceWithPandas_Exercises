{
 "cells": [
  {
   "cell_type": "markdown",
   "metadata": {},
   "source": [
    "# Case 10: Backtesting Investment Strategies (US Stocks)"
   ]
  },
  {
   "cell_type": "markdown",
   "metadata": {},
   "source": [
    "## Importing the Data"
   ]
  },
  {
   "cell_type": "code",
   "execution_count": 1,
   "metadata": {},
   "outputs": [],
   "source": [
    "import pandas as pd"
   ]
  },
  {
   "cell_type": "code",
   "execution_count": 3,
   "metadata": {},
   "outputs": [
    {
     "name": "stdout",
     "output_type": "stream",
     "text": [
      "<class 'pandas.core.frame.DataFrame'>\n",
      "RangeIndex: 3333 entries, 0 to 3332\n",
      "Data columns (total 7 columns):\n",
      " #   Column     Non-Null Count  Dtype  \n",
      "---  ------     --------------  -----  \n",
      " 0   Date       3333 non-null   object \n",
      " 1   Open       3333 non-null   float64\n",
      " 2   High       3333 non-null   float64\n",
      " 3   Low        3333 non-null   float64\n",
      " 4   Close      3333 non-null   float64\n",
      " 5   Adj Close  3333 non-null   float64\n",
      " 6   Volume     3333 non-null   int64  \n",
      "dtypes: float64(5), int64(1), object(1)\n",
      "memory usage: 182.4+ KB\n"
     ]
    }
   ],
   "source": [
    "pd.read_csv(\"dji.csv\").info()"
   ]
  },
  {
   "cell_type": "code",
   "execution_count": 4,
   "metadata": {},
   "outputs": [],
   "source": [
    "data = pd.read_csv(\"dji.csv\", parse_dates = [\"Date\"], index_col = \"Date\")"
   ]
  },
  {
   "cell_type": "markdown",
   "metadata": {},
   "source": [
    "Se a gente utilizar a data como intdice, "
   ]
  },
  {
   "cell_type": "code",
   "execution_count": 5,
   "metadata": {},
   "outputs": [],
   "source": [
    "df = data.loc[\"2010-01-01\": \"2020-03-31\", \"Close\"].to_frame()"
   ]
  },
  {
   "cell_type": "code",
   "execution_count": 6,
   "metadata": {},
   "outputs": [
    {
     "data": {
      "text/html": [
       "<div>\n",
       "<style scoped>\n",
       "    .dataframe tbody tr th:only-of-type {\n",
       "        vertical-align: middle;\n",
       "    }\n",
       "\n",
       "    .dataframe tbody tr th {\n",
       "        vertical-align: top;\n",
       "    }\n",
       "\n",
       "    .dataframe thead th {\n",
       "        text-align: right;\n",
       "    }\n",
       "</style>\n",
       "<table border=\"1\" class=\"dataframe\">\n",
       "  <thead>\n",
       "    <tr style=\"text-align: right;\">\n",
       "      <th></th>\n",
       "      <th>Open</th>\n",
       "      <th>High</th>\n",
       "      <th>Low</th>\n",
       "      <th>Close</th>\n",
       "      <th>Adj Close</th>\n",
       "      <th>Volume</th>\n",
       "    </tr>\n",
       "    <tr>\n",
       "      <th>Date</th>\n",
       "      <th></th>\n",
       "      <th></th>\n",
       "      <th></th>\n",
       "      <th></th>\n",
       "      <th></th>\n",
       "      <th></th>\n",
       "    </tr>\n",
       "  </thead>\n",
       "  <tbody>\n",
       "    <tr>\n",
       "      <th>2007-01-03</th>\n",
       "      <td>12459.540039</td>\n",
       "      <td>12580.349609</td>\n",
       "      <td>12404.820312</td>\n",
       "      <td>12474.519531</td>\n",
       "      <td>12474.519531</td>\n",
       "      <td>327200000</td>\n",
       "    </tr>\n",
       "    <tr>\n",
       "      <th>2007-01-04</th>\n",
       "      <td>12473.160156</td>\n",
       "      <td>12510.410156</td>\n",
       "      <td>12403.860352</td>\n",
       "      <td>12480.690430</td>\n",
       "      <td>12480.690430</td>\n",
       "      <td>259060000</td>\n",
       "    </tr>\n",
       "    <tr>\n",
       "      <th>2007-01-05</th>\n",
       "      <td>12480.049805</td>\n",
       "      <td>12480.129883</td>\n",
       "      <td>12365.410156</td>\n",
       "      <td>12398.009766</td>\n",
       "      <td>12398.009766</td>\n",
       "      <td>235220000</td>\n",
       "    </tr>\n",
       "    <tr>\n",
       "      <th>2007-01-08</th>\n",
       "      <td>12392.009766</td>\n",
       "      <td>12445.919922</td>\n",
       "      <td>12337.370117</td>\n",
       "      <td>12423.490234</td>\n",
       "      <td>12423.490234</td>\n",
       "      <td>223500000</td>\n",
       "    </tr>\n",
       "    <tr>\n",
       "      <th>2007-01-09</th>\n",
       "      <td>12424.769531</td>\n",
       "      <td>12466.429688</td>\n",
       "      <td>12369.169922</td>\n",
       "      <td>12416.599609</td>\n",
       "      <td>12416.599609</td>\n",
       "      <td>225190000</td>\n",
       "    </tr>\n",
       "    <tr>\n",
       "      <th>...</th>\n",
       "      <td>...</td>\n",
       "      <td>...</td>\n",
       "      <td>...</td>\n",
       "      <td>...</td>\n",
       "      <td>...</td>\n",
       "      <td>...</td>\n",
       "    </tr>\n",
       "    <tr>\n",
       "      <th>2020-03-24</th>\n",
       "      <td>19722.189453</td>\n",
       "      <td>20737.699219</td>\n",
       "      <td>19649.250000</td>\n",
       "      <td>20704.910156</td>\n",
       "      <td>20704.910156</td>\n",
       "      <td>799340000</td>\n",
       "    </tr>\n",
       "    <tr>\n",
       "      <th>2020-03-25</th>\n",
       "      <td>21050.339844</td>\n",
       "      <td>22019.929688</td>\n",
       "      <td>20538.339844</td>\n",
       "      <td>21200.550781</td>\n",
       "      <td>21200.550781</td>\n",
       "      <td>796320000</td>\n",
       "    </tr>\n",
       "    <tr>\n",
       "      <th>2020-03-26</th>\n",
       "      <td>21468.380859</td>\n",
       "      <td>22595.060547</td>\n",
       "      <td>21427.099609</td>\n",
       "      <td>22552.169922</td>\n",
       "      <td>22552.169922</td>\n",
       "      <td>705180000</td>\n",
       "    </tr>\n",
       "    <tr>\n",
       "      <th>2020-03-27</th>\n",
       "      <td>21898.470703</td>\n",
       "      <td>22327.570312</td>\n",
       "      <td>21469.269531</td>\n",
       "      <td>21636.779297</td>\n",
       "      <td>21636.779297</td>\n",
       "      <td>588830000</td>\n",
       "    </tr>\n",
       "    <tr>\n",
       "      <th>2020-03-30</th>\n",
       "      <td>21678.220703</td>\n",
       "      <td>22378.089844</td>\n",
       "      <td>21522.080078</td>\n",
       "      <td>22327.480469</td>\n",
       "      <td>22327.480469</td>\n",
       "      <td>545540000</td>\n",
       "    </tr>\n",
       "  </tbody>\n",
       "</table>\n",
       "<p>3333 rows × 6 columns</p>\n",
       "</div>"
      ],
      "text/plain": [
       "                    Open          High           Low         Close  \\\n",
       "Date                                                                 \n",
       "2007-01-03  12459.540039  12580.349609  12404.820312  12474.519531   \n",
       "2007-01-04  12473.160156  12510.410156  12403.860352  12480.690430   \n",
       "2007-01-05  12480.049805  12480.129883  12365.410156  12398.009766   \n",
       "2007-01-08  12392.009766  12445.919922  12337.370117  12423.490234   \n",
       "2007-01-09  12424.769531  12466.429688  12369.169922  12416.599609   \n",
       "...                  ...           ...           ...           ...   \n",
       "2020-03-24  19722.189453  20737.699219  19649.250000  20704.910156   \n",
       "2020-03-25  21050.339844  22019.929688  20538.339844  21200.550781   \n",
       "2020-03-26  21468.380859  22595.060547  21427.099609  22552.169922   \n",
       "2020-03-27  21898.470703  22327.570312  21469.269531  21636.779297   \n",
       "2020-03-30  21678.220703  22378.089844  21522.080078  22327.480469   \n",
       "\n",
       "               Adj Close     Volume  \n",
       "Date                                 \n",
       "2007-01-03  12474.519531  327200000  \n",
       "2007-01-04  12480.690430  259060000  \n",
       "2007-01-05  12398.009766  235220000  \n",
       "2007-01-08  12423.490234  223500000  \n",
       "2007-01-09  12416.599609  225190000  \n",
       "...                  ...        ...  \n",
       "2020-03-24  20704.910156  799340000  \n",
       "2020-03-25  21200.550781  796320000  \n",
       "2020-03-26  22552.169922  705180000  \n",
       "2020-03-27  21636.779297  588830000  \n",
       "2020-03-30  22327.480469  545540000  \n",
       "\n",
       "[3333 rows x 6 columns]"
      ]
     },
     "execution_count": 6,
     "metadata": {},
     "output_type": "execute_result"
    }
   ],
   "source": [
    "data"
   ]
  },
  {
   "cell_type": "code",
   "execution_count": null,
   "metadata": {},
   "outputs": [],
   "source": []
  },
  {
   "cell_type": "markdown",
   "metadata": {},
   "source": [
    "## Data Visualization & Returns"
   ]
  },
  {
   "cell_type": "code",
   "execution_count": null,
   "metadata": {},
   "outputs": [],
   "source": [
    "import matplotlib.pyplot as plt\n",
    "import numpy as np\n",
    "import seaborn as sns\n",
    "plt.style.use(\"seaborn\")"
   ]
  },
  {
   "cell_type": "code",
   "execution_count": null,
   "metadata": {},
   "outputs": [],
   "source": [
    "df.describe()"
   ]
  },
  {
   "cell_type": "code",
   "execution_count": null,
   "metadata": {},
   "outputs": [],
   "source": [
    "df.plot(figsize = (20, 12), fontsize = 15)\n",
    "plt.legend(fontsize = 15)\n",
    "plt.show()"
   ]
  },
  {
   "cell_type": "code",
   "execution_count": null,
   "metadata": {},
   "outputs": [],
   "source": [
    "df[\"Return\"] = df.pct_change()"
   ]
  },
  {
   "cell_type": "code",
   "execution_count": null,
   "metadata": {},
   "outputs": [],
   "source": [
    "df"
   ]
  },
  {
   "cell_type": "code",
   "execution_count": null,
   "metadata": {},
   "outputs": [],
   "source": [
    "df.dropna(inplace = True)"
   ]
  },
  {
   "cell_type": "code",
   "execution_count": null,
   "metadata": {},
   "outputs": [],
   "source": [
    "df"
   ]
  },
  {
   "cell_type": "code",
   "execution_count": null,
   "metadata": {},
   "outputs": [],
   "source": [
    "df.plot(figsize = (20, 12), secondary_y = \"Return\", mark_right = True, fontsize = 15)\n",
    "plt.show()"
   ]
  },
  {
   "cell_type": "code",
   "execution_count": null,
   "metadata": {},
   "outputs": [],
   "source": [
    "df.rename(columns = {\"Close\":\"DJI_Close\", \"Return\":\"DJI_Return\"}, inplace = True)"
   ]
  },
  {
   "cell_type": "code",
   "execution_count": null,
   "metadata": {},
   "outputs": [],
   "source": [
    "df"
   ]
  },
  {
   "cell_type": "code",
   "execution_count": null,
   "metadata": {},
   "outputs": [],
   "source": []
  },
  {
   "cell_type": "markdown",
   "metadata": {},
   "source": [
    "## Backtesting a simple Momentum Strategy"
   ]
  },
  {
   "cell_type": "markdown",
   "metadata": {},
   "source": [
    "__Positions__:"
   ]
  },
  {
   "cell_type": "markdown",
   "metadata": {},
   "source": [
    "+1: Investing in DJI (__long__ position) <br>\n",
    "-1: Short Selling DJI (__short__ position)<br>\n",
    "0: No position (__neutral__)"
   ]
  },
  {
   "cell_type": "markdown",
   "metadata": {},
   "source": [
    "__Strategies__:"
   ]
  },
  {
   "cell_type": "markdown",
   "metadata": {},
   "source": [
    "-__Buy and Hold__ (Basic Strategy - passive): Initially Investing into DJI and do nothing (Position: +1 on any given day)"
   ]
  },
  {
   "cell_type": "markdown",
   "metadata": {},
   "source": [
    "-__Simple Momentum__ (active Strategy to be tested): <br>\n",
    "__a) Investing (+1)__ into DJI tomorrow if today´s return was __positive__ <br>\n",
    "__b) Short selling (-1)__ DJI tomorrow if today´s return was __negative__"
   ]
  },
  {
   "cell_type": "code",
   "execution_count": null,
   "metadata": {},
   "outputs": [],
   "source": [
    "df"
   ]
  },
  {
   "cell_type": "code",
   "execution_count": null,
   "metadata": {},
   "outputs": [],
   "source": [
    "df[\"Position\"] = np.sign(df[\"DJI_Return\"])"
   ]
  },
  {
   "cell_type": "code",
   "execution_count": null,
   "metadata": {},
   "outputs": [],
   "source": [
    "df"
   ]
  },
  {
   "cell_type": "code",
   "execution_count": null,
   "metadata": {},
   "outputs": [],
   "source": [
    "df[\"Strategy_Ret\"] = df[\"Position\"].shift() * df[\"DJI_Return\"]"
   ]
  },
  {
   "cell_type": "code",
   "execution_count": null,
   "metadata": {},
   "outputs": [],
   "source": [
    "df"
   ]
  },
  {
   "cell_type": "code",
   "execution_count": null,
   "metadata": {},
   "outputs": [],
   "source": [
    "df.Strategy_Ret.add(1, fill_value = 0).cumprod()"
   ]
  },
  {
   "cell_type": "code",
   "execution_count": null,
   "metadata": {},
   "outputs": [],
   "source": [
    "df[\"Strategy\"] = df.Strategy_Ret.add(1, fill_value = 0).cumprod() * df.iloc[0, 0]"
   ]
  },
  {
   "cell_type": "code",
   "execution_count": null,
   "metadata": {},
   "outputs": [],
   "source": [
    "df"
   ]
  },
  {
   "cell_type": "code",
   "execution_count": null,
   "metadata": {},
   "outputs": [],
   "source": [
    "df[[\"DJI_Close\", \"Strategy\"]].plot(figsize = (15, 10), fontsize = 15)\n",
    "plt.title(\"Simple Momentum Strategy\", fontsize = 20)\n",
    "plt.legend(fontsize = 15)\n",
    "plt.show()"
   ]
  },
  {
   "cell_type": "code",
   "execution_count": null,
   "metadata": {},
   "outputs": [],
   "source": [
    "def summary_ann(returns):\n",
    "    summary = returns.agg([\"mean\", \"std\"]).T\n",
    "    summary[\"Return\"] = summary[\"mean\"] * 252\n",
    "    summary[\"Risk\"] = summary[\"std\"] * np.sqrt(252)\n",
    "    summary.drop(columns = [\"mean\", \"std\"], inplace = True)\n",
    "    return summary"
   ]
  },
  {
   "cell_type": "code",
   "execution_count": null,
   "metadata": {
    "scrolled": false
   },
   "outputs": [],
   "source": [
    "summary_ann(df[[\"DJI_Return\", \"Strategy_Ret\"]])"
   ]
  },
  {
   "cell_type": "code",
   "execution_count": null,
   "metadata": {},
   "outputs": [],
   "source": []
  },
  {
   "cell_type": "markdown",
   "metadata": {},
   "source": [
    "## Backtesting a simple Contrarian Strategy"
   ]
  },
  {
   "cell_type": "markdown",
   "metadata": {},
   "source": [
    "__Strategies__:"
   ]
  },
  {
   "cell_type": "markdown",
   "metadata": {},
   "source": [
    "-__Buy and Hold__ (Basic Strategy): Initially Investing into DJI and do nothing (Position: +1 on all days)"
   ]
  },
  {
   "cell_type": "markdown",
   "metadata": {},
   "source": [
    "-__Simple Contrarian__ (Strategy to be tested): <br>\n",
    "__a) Short Selling (-1)__ DJI tomorrow if today´s return was __positive__ <br>\n",
    "__b) Investing (+1)__ into DJI tomorrow if today´s return was __negative__"
   ]
  },
  {
   "cell_type": "code",
   "execution_count": null,
   "metadata": {},
   "outputs": [],
   "source": [
    "data"
   ]
  },
  {
   "cell_type": "code",
   "execution_count": null,
   "metadata": {},
   "outputs": [],
   "source": [
    "df = data.loc[\"2010\":, \"Close\"].to_frame()\n",
    "df[\"DJI_Return\"] = df.Close.pct_change()\n",
    "df.columns = [\"DJI_Close\", \"DJI_Return\"]\n",
    "df.dropna(inplace = True)\n",
    "df"
   ]
  },
  {
   "cell_type": "code",
   "execution_count": null,
   "metadata": {},
   "outputs": [],
   "source": [
    "df[\"Position\"] = -np.sign(df[\"DJI_Return\"])"
   ]
  },
  {
   "cell_type": "code",
   "execution_count": null,
   "metadata": {},
   "outputs": [],
   "source": [
    "df"
   ]
  },
  {
   "cell_type": "code",
   "execution_count": null,
   "metadata": {},
   "outputs": [],
   "source": [
    "df[\"Strategy_Ret\"] = df[\"Position\"].shift() * df[\"DJI_Return\"]"
   ]
  },
  {
   "cell_type": "code",
   "execution_count": null,
   "metadata": {},
   "outputs": [],
   "source": [
    "df"
   ]
  },
  {
   "cell_type": "code",
   "execution_count": null,
   "metadata": {},
   "outputs": [],
   "source": [
    "df[\"Strategy\"] = df.Strategy_Ret.add(1, fill_value = 0).cumprod() * df.iloc[0, 0]"
   ]
  },
  {
   "cell_type": "code",
   "execution_count": null,
   "metadata": {},
   "outputs": [],
   "source": [
    "df"
   ]
  },
  {
   "cell_type": "code",
   "execution_count": null,
   "metadata": {},
   "outputs": [],
   "source": [
    "df[[\"DJI_Close\", \"Strategy\"]].plot(figsize = (15, 10), fontsize = 15)\n",
    "plt.legend(fontsize = 15)\n",
    "plt.title(\"Simple Contrarian Strategy\", fontsize = 20)\n",
    "plt.show()"
   ]
  },
  {
   "cell_type": "code",
   "execution_count": null,
   "metadata": {
    "scrolled": true
   },
   "outputs": [],
   "source": [
    "summary_ann(df[[\"DJI_Return\", \"Strategy_Ret\"]])"
   ]
  },
  {
   "cell_type": "code",
   "execution_count": null,
   "metadata": {},
   "outputs": [],
   "source": []
  },
  {
   "cell_type": "markdown",
   "metadata": {},
   "source": [
    "## More complex Strategies & Backtesting vs. Fitting"
   ]
  },
  {
   "cell_type": "code",
   "execution_count": null,
   "metadata": {},
   "outputs": [],
   "source": [
    "data"
   ]
  },
  {
   "cell_type": "code",
   "execution_count": null,
   "metadata": {},
   "outputs": [],
   "source": [
    "df = data.loc[\"2010\":, \"Close\"].to_frame()\n",
    "df[\"DJI_Return\"] = df.Close.pct_change()\n",
    "df.columns = [\"DJI_Close\", \"DJI_Return\"]\n",
    "df.dropna(inplace = True)\n",
    "df"
   ]
  },
  {
   "cell_type": "code",
   "execution_count": null,
   "metadata": {},
   "outputs": [],
   "source": [
    "df[\"Position\"] = np.where(df[\"DJI_Return\"] > 0.01, -1, 1)"
   ]
  },
  {
   "cell_type": "code",
   "execution_count": null,
   "metadata": {},
   "outputs": [],
   "source": [
    "df"
   ]
  },
  {
   "cell_type": "code",
   "execution_count": null,
   "metadata": {},
   "outputs": [],
   "source": [
    "df[\"Strategy_Ret\"] = df[\"Position\"].shift() * df[\"DJI_Return\"]"
   ]
  },
  {
   "cell_type": "code",
   "execution_count": null,
   "metadata": {},
   "outputs": [],
   "source": [
    "df"
   ]
  },
  {
   "cell_type": "code",
   "execution_count": null,
   "metadata": {},
   "outputs": [],
   "source": [
    "df[\"Strategy\"] = df.Strategy_Ret.add(1, fill_value = 0).cumprod() * df.iloc[0, 0]"
   ]
  },
  {
   "cell_type": "code",
   "execution_count": null,
   "metadata": {},
   "outputs": [],
   "source": [
    "df"
   ]
  },
  {
   "cell_type": "code",
   "execution_count": null,
   "metadata": {},
   "outputs": [],
   "source": [
    "df[[\"DJI_Close\", \"Strategy\"]].plot(figsize = (15, 10), fontsize = 15)\n",
    "plt.legend(fontsize = 15)\n",
    "plt.title(\"Simple Contrarian Strategy\", fontsize = 20)\n",
    "plt.show()"
   ]
  },
  {
   "cell_type": "code",
   "execution_count": null,
   "metadata": {
    "scrolled": true
   },
   "outputs": [],
   "source": [
    "summary_ann(df[[\"DJI_Return\", \"Strategy_Ret\"]])"
   ]
  },
  {
   "cell_type": "markdown",
   "metadata": {},
   "source": [
    "Even if a Strategy __seems to outperform__ the basic Strategy, the following issues need to be considered/analyzed as well: <br>\n",
    "- Backtesting vs. Fitting -> Was the Strategy __fitted__ and optimized on __historical data__? __Forward Testing__ is required!<br>\n",
    "- __Transaction Costs__ -> Changing Positions trigger Cost. Include Costs!<br>\n",
    "- __Tax effects__ -> Changing Positions can trigger (earlier) Tax Payments. Include Taxes!"
   ]
  },
  {
   "cell_type": "code",
   "execution_count": null,
   "metadata": {},
   "outputs": [],
   "source": []
  },
  {
   "cell_type": "markdown",
   "metadata": {},
   "source": [
    "## Simple Moving Averages (Part 1)"
   ]
  },
  {
   "cell_type": "code",
   "execution_count": null,
   "metadata": {},
   "outputs": [],
   "source": [
    "data"
   ]
  },
  {
   "cell_type": "code",
   "execution_count": null,
   "metadata": {},
   "outputs": [],
   "source": [
    "df = data.loc[\"2010\":, \"Close\"].to_frame()\n",
    "df[\"DJI_Return\"] = df.Close.pct_change()\n",
    "df.columns = [\"DJI_Close\", \"DJI_Return\"]\n",
    "df.dropna(inplace = True)\n",
    "df"
   ]
  },
  {
   "cell_type": "code",
   "execution_count": null,
   "metadata": {},
   "outputs": [],
   "source": [
    "df.DJI_Close.rolling(window = 50).mean()"
   ]
  },
  {
   "cell_type": "code",
   "execution_count": null,
   "metadata": {},
   "outputs": [],
   "source": [
    "df[\"SMA50\"] = df.DJI_Close.rolling(window = 50).mean()"
   ]
  },
  {
   "cell_type": "code",
   "execution_count": null,
   "metadata": {},
   "outputs": [],
   "source": [
    "df[[\"DJI_Close\", \"SMA50\"]].plot(figsize = (15, 10), fontsize = 15)\n",
    "plt.legend(fontsize = 15)\n",
    "plt.show()"
   ]
  },
  {
   "cell_type": "code",
   "execution_count": null,
   "metadata": {},
   "outputs": [],
   "source": [
    "df[\"SMA200\"] = df.DJI_Close.rolling(window = 200).mean()"
   ]
  },
  {
   "cell_type": "code",
   "execution_count": null,
   "metadata": {},
   "outputs": [],
   "source": [
    "df"
   ]
  },
  {
   "cell_type": "code",
   "execution_count": null,
   "metadata": {},
   "outputs": [],
   "source": [
    "df[[\"SMA50\", \"SMA200\"]].plot(figsize = (15, 10), fontsize = 15)\n",
    "plt.legend(fontsize = 15)\n",
    "plt.show()"
   ]
  },
  {
   "cell_type": "code",
   "execution_count": null,
   "metadata": {},
   "outputs": [],
   "source": [
    "df.dropna(inplace= True)"
   ]
  },
  {
   "cell_type": "code",
   "execution_count": null,
   "metadata": {},
   "outputs": [],
   "source": [
    "df"
   ]
  },
  {
   "cell_type": "code",
   "execution_count": null,
   "metadata": {},
   "outputs": [],
   "source": []
  },
  {
   "cell_type": "markdown",
   "metadata": {},
   "source": [
    "## Simple Moving Averages (Part 2)"
   ]
  },
  {
   "cell_type": "markdown",
   "metadata": {},
   "source": [
    "__Strategies__:"
   ]
  },
  {
   "cell_type": "markdown",
   "metadata": {},
   "source": [
    "-__Buy and Hold__ (Basic Strategy): Initially Investing into DJI and do nothing (Position: +1 on all days)"
   ]
  },
  {
   "cell_type": "markdown",
   "metadata": {},
   "source": [
    "-__SMA Crossover (Momentum)__ (Strategy to be tested): <br>\n",
    "__a) Investing (+1)__: SMA50 __>__ SMA200 <br>\n",
    "__b) Short Selling (-1)__: SMA50 __<__ SMA200"
   ]
  },
  {
   "cell_type": "code",
   "execution_count": null,
   "metadata": {},
   "outputs": [],
   "source": [
    "df[\"Position\"] = np.sign(df.SMA50.sub(df.SMA200)) "
   ]
  },
  {
   "cell_type": "code",
   "execution_count": null,
   "metadata": {},
   "outputs": [],
   "source": [
    "df"
   ]
  },
  {
   "cell_type": "code",
   "execution_count": null,
   "metadata": {},
   "outputs": [],
   "source": [
    "df[[\"SMA50\", \"SMA200\", \"Position\"]].plot(figsize = (15, 10), secondary_y = \"Position\", fontsize = 15)\n",
    "plt.show()"
   ]
  },
  {
   "cell_type": "code",
   "execution_count": null,
   "metadata": {},
   "outputs": [],
   "source": [
    "df[\"Strategy_Ret\"] = df[\"Position\"].shift() * df[\"DJI_Return\"]"
   ]
  },
  {
   "cell_type": "code",
   "execution_count": null,
   "metadata": {},
   "outputs": [],
   "source": [
    "df"
   ]
  },
  {
   "cell_type": "code",
   "execution_count": null,
   "metadata": {},
   "outputs": [],
   "source": [
    "df[\"Strategy\"] = df.Strategy_Ret.add(1, fill_value = 0).cumprod() * df.iloc[0, 0]"
   ]
  },
  {
   "cell_type": "code",
   "execution_count": null,
   "metadata": {},
   "outputs": [],
   "source": [
    "df"
   ]
  },
  {
   "cell_type": "code",
   "execution_count": null,
   "metadata": {},
   "outputs": [],
   "source": [
    "df[[\"DJI_Close\", \"Strategy\"]].plot(figsize = (15, 10), fontsize = 15)\n",
    "plt.legend(fontsize = 15)\n",
    "plt.title(\"SMA Strategy\", fontsize = 20)\n",
    "plt.show()"
   ]
  },
  {
   "cell_type": "code",
   "execution_count": null,
   "metadata": {},
   "outputs": [],
   "source": [
    "summary_ann(df[[\"DJI_Return\", \"Strategy_Ret\"]])"
   ]
  },
  {
   "cell_type": "code",
   "execution_count": null,
   "metadata": {},
   "outputs": [],
   "source": [
    "df[\"Position\"] = -np.sign(df.SMA50.sub(df.SMA200)) "
   ]
  },
  {
   "cell_type": "code",
   "execution_count": null,
   "metadata": {},
   "outputs": [],
   "source": [
    "df"
   ]
  },
  {
   "cell_type": "code",
   "execution_count": null,
   "metadata": {},
   "outputs": [],
   "source": [
    "df[[\"SMA50\", \"SMA200\", \"Position\"]].plot(figsize = (15, 10), secondary_y = \"Position\", fontsize = 15)\n",
    "plt.show()"
   ]
  },
  {
   "cell_type": "code",
   "execution_count": null,
   "metadata": {},
   "outputs": [],
   "source": [
    "df[\"Strategy_Ret\"] = df[\"Position\"].shift() * df[\"DJI_Return\"]"
   ]
  },
  {
   "cell_type": "code",
   "execution_count": null,
   "metadata": {},
   "outputs": [],
   "source": [
    "df"
   ]
  },
  {
   "cell_type": "code",
   "execution_count": null,
   "metadata": {},
   "outputs": [],
   "source": [
    "df[\"Strategy\"] = df.Strategy_Ret.add(1, fill_value = 0).cumprod() * df.iloc[0, 0]"
   ]
  },
  {
   "cell_type": "code",
   "execution_count": null,
   "metadata": {},
   "outputs": [],
   "source": [
    "df"
   ]
  },
  {
   "cell_type": "code",
   "execution_count": null,
   "metadata": {},
   "outputs": [],
   "source": [
    "df[[\"DJI_Close\", \"Strategy\"]].plot(figsize = (15, 10), fontsize = 15)\n",
    "plt.legend(fontsize = 15)\n",
    "plt.title(\"SMA Strategy\", fontsize = 20)\n",
    "plt.show()"
   ]
  },
  {
   "cell_type": "code",
   "execution_count": null,
   "metadata": {},
   "outputs": [],
   "source": [
    "summary_ann(df[[\"DJI_Return\", \"Strategy_Ret\"]])"
   ]
  },
  {
   "cell_type": "code",
   "execution_count": null,
   "metadata": {},
   "outputs": [],
   "source": []
  },
  {
   "cell_type": "markdown",
   "metadata": {},
   "source": [
    "## Backtesting the Perfect Strategy (...in case you can predict the future...)"
   ]
  },
  {
   "cell_type": "code",
   "execution_count": null,
   "metadata": {},
   "outputs": [],
   "source": [
    "data"
   ]
  },
  {
   "cell_type": "code",
   "execution_count": null,
   "metadata": {},
   "outputs": [],
   "source": [
    "df = data.loc[\"2010\":, \"Close\"].to_frame()\n",
    "df[\"DJI_Return\"] = df.Close.pct_change()\n",
    "df.columns = [\"DJI_Close\", \"DJI_Return\"]\n",
    "df.dropna(inplace = True)\n",
    "df"
   ]
  },
  {
   "cell_type": "code",
   "execution_count": null,
   "metadata": {},
   "outputs": [],
   "source": [
    "df[\"Position\"] = np.sign(df[\"DJI_Return\"])"
   ]
  },
  {
   "cell_type": "code",
   "execution_count": null,
   "metadata": {},
   "outputs": [],
   "source": [
    "df"
   ]
  },
  {
   "cell_type": "code",
   "execution_count": null,
   "metadata": {},
   "outputs": [],
   "source": [
    "df[\"Strategy_Ret\"] = df[\"Position\"] * df[\"DJI_Return\"]"
   ]
  },
  {
   "cell_type": "code",
   "execution_count": null,
   "metadata": {},
   "outputs": [],
   "source": [
    "df"
   ]
  },
  {
   "cell_type": "code",
   "execution_count": null,
   "metadata": {},
   "outputs": [],
   "source": [
    "df[\"Strategy\"] = df.Strategy_Ret.add(1, fill_value = 0).cumprod() * df.iloc[0, 0]"
   ]
  },
  {
   "cell_type": "code",
   "execution_count": null,
   "metadata": {},
   "outputs": [],
   "source": [
    "df"
   ]
  },
  {
   "cell_type": "code",
   "execution_count": null,
   "metadata": {},
   "outputs": [],
   "source": [
    "df[[\"DJI_Close\", \"Strategy\"]].plot(figsize = (15, 10), fontsize = 15, logy = True)\n",
    "plt.legend(fontsize = 15)\n",
    "plt.title(\"The Perfect Strategy\", fontsize = 20)\n",
    "plt.show()"
   ]
  },
  {
   "cell_type": "code",
   "execution_count": null,
   "metadata": {
    "scrolled": true
   },
   "outputs": [],
   "source": [
    "summary_ann(df[[\"DJI_Return\", \"Strategy_Ret\"]])"
   ]
  },
  {
   "cell_type": "code",
   "execution_count": null,
   "metadata": {},
   "outputs": [],
   "source": []
  }
 ],
 "metadata": {
  "kernelspec": {
   "display_name": "Python 3",
   "language": "python",
   "name": "python3"
  },
  "language_info": {
   "codemirror_mode": {
    "name": "ipython",
    "version": 3
   },
   "file_extension": ".py",
   "mimetype": "text/x-python",
   "name": "python",
   "nbconvert_exporter": "python",
   "pygments_lexer": "ipython3",
   "version": "3.7.6"
  }
 },
 "nbformat": 4,
 "nbformat_minor": 4
}
