{
 "cells": [
  {
   "cell_type": "markdown",
   "metadata": {},
   "source": [
    " # Project 7: Explanatory Data Analysis & Advanced Visualization (Baby Names Dataset)"
   ]
  },
  {
   "cell_type": "code",
   "execution_count": 2,
   "metadata": {},
   "outputs": [],
   "source": [
    "import pandas as pd\n",
    "import matplotlib.pyplot as plt\n",
    "import numpy as np\n",
    "pd.options.display.float_format = '{:.2f}'.format"
   ]
  },
  {
   "cell_type": "markdown",
   "metadata": {},
   "source": [
    "### The most popular names"
   ]
  },
  {
   "cell_type": "code",
   "execution_count": 7,
   "metadata": {},
   "outputs": [],
   "source": [
    "df = pd.read_csv('us_baby_names.csv')"
   ]
  },
  {
   "cell_type": "code",
   "execution_count": 8,
   "metadata": {},
   "outputs": [
    {
     "data": {
      "text/plain": [
       "Index(['Year', 'Name', 'Gender', 'Count'], dtype='object')"
      ]
     },
     "execution_count": 8,
     "metadata": {},
     "output_type": "execute_result"
    }
   ],
   "source": [
    "df.columns"
   ]
  },
  {
   "cell_type": "markdown",
   "metadata": {},
   "source": [
    "This is the non-unique values in each column"
   ]
  },
  {
   "cell_type": "code",
   "execution_count": 6,
   "metadata": {},
   "outputs": [
    {
     "data": {
      "text/plain": [
       "Year        139\n",
       "Name      98400\n",
       "Gender        2\n",
       "Count     13720\n",
       "dtype: int64"
      ]
     },
     "execution_count": 6,
     "metadata": {},
     "output_type": "execute_result"
    }
   ],
   "source": [
    "df.nunique()"
   ]
  },
  {
   "cell_type": "markdown",
   "metadata": {},
   "source": [
    "Converting gender as categorical type"
   ]
  },
  {
   "cell_type": "code",
   "execution_count": 9,
   "metadata": {},
   "outputs": [],
   "source": [
    "df['Gender'] = df['Gender'].astype('category')"
   ]
  },
  {
   "cell_type": "markdown",
   "metadata": {},
   "source": [
    "Dataframe with names of 2018"
   ]
  },
  {
   "cell_type": "code",
   "execution_count": 10,
   "metadata": {},
   "outputs": [],
   "source": [
    "df_names_2018 = df[df['Year'] == 2018].copy()"
   ]
  },
  {
   "cell_type": "markdown",
   "metadata": {},
   "source": [
    "The most counted names"
   ]
  },
  {
   "cell_type": "code",
   "execution_count": 15,
   "metadata": {},
   "outputs": [
    {
     "data": {
      "text/html": [
       "<div>\n",
       "<style scoped>\n",
       "    .dataframe tbody tr th:only-of-type {\n",
       "        vertical-align: middle;\n",
       "    }\n",
       "\n",
       "    .dataframe tbody tr th {\n",
       "        vertical-align: top;\n",
       "    }\n",
       "\n",
       "    .dataframe thead th {\n",
       "        text-align: right;\n",
       "    }\n",
       "</style>\n",
       "<table border=\"1\" class=\"dataframe\">\n",
       "  <thead>\n",
       "    <tr style=\"text-align: right;\">\n",
       "      <th></th>\n",
       "      <th>Year</th>\n",
       "      <th>Name</th>\n",
       "      <th>Gender</th>\n",
       "      <th>Count</th>\n",
       "    </tr>\n",
       "  </thead>\n",
       "  <tbody>\n",
       "    <tr>\n",
       "      <th>1943042</th>\n",
       "      <td>2018</td>\n",
       "      <td>Liam</td>\n",
       "      <td>M</td>\n",
       "      <td>19837</td>\n",
       "    </tr>\n",
       "    <tr>\n",
       "      <th>1925013</th>\n",
       "      <td>2018</td>\n",
       "      <td>Emma</td>\n",
       "      <td>F</td>\n",
       "      <td>18688</td>\n",
       "    </tr>\n",
       "    <tr>\n",
       "      <th>1943043</th>\n",
       "      <td>2018</td>\n",
       "      <td>Noah</td>\n",
       "      <td>M</td>\n",
       "      <td>18267</td>\n",
       "    </tr>\n",
       "    <tr>\n",
       "      <th>1925014</th>\n",
       "      <td>2018</td>\n",
       "      <td>Olivia</td>\n",
       "      <td>F</td>\n",
       "      <td>17921</td>\n",
       "    </tr>\n",
       "    <tr>\n",
       "      <th>1925015</th>\n",
       "      <td>2018</td>\n",
       "      <td>Ava</td>\n",
       "      <td>F</td>\n",
       "      <td>14924</td>\n",
       "    </tr>\n",
       "    <tr>\n",
       "      <th>1943044</th>\n",
       "      <td>2018</td>\n",
       "      <td>William</td>\n",
       "      <td>M</td>\n",
       "      <td>14516</td>\n",
       "    </tr>\n",
       "    <tr>\n",
       "      <th>1925016</th>\n",
       "      <td>2018</td>\n",
       "      <td>Isabella</td>\n",
       "      <td>F</td>\n",
       "      <td>14464</td>\n",
       "    </tr>\n",
       "    <tr>\n",
       "      <th>1925017</th>\n",
       "      <td>2018</td>\n",
       "      <td>Sophia</td>\n",
       "      <td>F</td>\n",
       "      <td>13928</td>\n",
       "    </tr>\n",
       "    <tr>\n",
       "      <th>1943045</th>\n",
       "      <td>2018</td>\n",
       "      <td>James</td>\n",
       "      <td>M</td>\n",
       "      <td>13525</td>\n",
       "    </tr>\n",
       "    <tr>\n",
       "      <th>1943046</th>\n",
       "      <td>2018</td>\n",
       "      <td>Oliver</td>\n",
       "      <td>M</td>\n",
       "      <td>13389</td>\n",
       "    </tr>\n",
       "  </tbody>\n",
       "</table>\n",
       "</div>"
      ],
      "text/plain": [
       "         Year      Name Gender  Count\n",
       "1943042  2018      Liam      M  19837\n",
       "1925013  2018      Emma      F  18688\n",
       "1943043  2018      Noah      M  18267\n",
       "1925014  2018    Olivia      F  17921\n",
       "1925015  2018       Ava      F  14924\n",
       "1943044  2018   William      M  14516\n",
       "1925016  2018  Isabella      F  14464\n",
       "1925017  2018    Sophia      F  13928\n",
       "1943045  2018     James      M  13525\n",
       "1943046  2018    Oliver      M  13389"
      ]
     },
     "execution_count": 15,
     "metadata": {},
     "output_type": "execute_result"
    }
   ],
   "source": [
    "df_names_2018.nlargest(10,'Count')"
   ]
  },
  {
   "cell_type": "markdown",
   "metadata": {},
   "source": [
    "The most counted female names"
   ]
  },
  {
   "cell_type": "code",
   "execution_count": 16,
   "metadata": {},
   "outputs": [
    {
     "data": {
      "text/html": [
       "<div>\n",
       "<style scoped>\n",
       "    .dataframe tbody tr th:only-of-type {\n",
       "        vertical-align: middle;\n",
       "    }\n",
       "\n",
       "    .dataframe tbody tr th {\n",
       "        vertical-align: top;\n",
       "    }\n",
       "\n",
       "    .dataframe thead th {\n",
       "        text-align: right;\n",
       "    }\n",
       "</style>\n",
       "<table border=\"1\" class=\"dataframe\">\n",
       "  <thead>\n",
       "    <tr style=\"text-align: right;\">\n",
       "      <th></th>\n",
       "      <th>Year</th>\n",
       "      <th>Name</th>\n",
       "      <th>Gender</th>\n",
       "      <th>Count</th>\n",
       "    </tr>\n",
       "  </thead>\n",
       "  <tbody>\n",
       "    <tr>\n",
       "      <th>1925013</th>\n",
       "      <td>2018</td>\n",
       "      <td>Emma</td>\n",
       "      <td>F</td>\n",
       "      <td>18688</td>\n",
       "    </tr>\n",
       "    <tr>\n",
       "      <th>1925014</th>\n",
       "      <td>2018</td>\n",
       "      <td>Olivia</td>\n",
       "      <td>F</td>\n",
       "      <td>17921</td>\n",
       "    </tr>\n",
       "    <tr>\n",
       "      <th>1925015</th>\n",
       "      <td>2018</td>\n",
       "      <td>Ava</td>\n",
       "      <td>F</td>\n",
       "      <td>14924</td>\n",
       "    </tr>\n",
       "    <tr>\n",
       "      <th>1925016</th>\n",
       "      <td>2018</td>\n",
       "      <td>Isabella</td>\n",
       "      <td>F</td>\n",
       "      <td>14464</td>\n",
       "    </tr>\n",
       "    <tr>\n",
       "      <th>1925017</th>\n",
       "      <td>2018</td>\n",
       "      <td>Sophia</td>\n",
       "      <td>F</td>\n",
       "      <td>13928</td>\n",
       "    </tr>\n",
       "    <tr>\n",
       "      <th>1925018</th>\n",
       "      <td>2018</td>\n",
       "      <td>Charlotte</td>\n",
       "      <td>F</td>\n",
       "      <td>12940</td>\n",
       "    </tr>\n",
       "    <tr>\n",
       "      <th>1925019</th>\n",
       "      <td>2018</td>\n",
       "      <td>Mia</td>\n",
       "      <td>F</td>\n",
       "      <td>12642</td>\n",
       "    </tr>\n",
       "    <tr>\n",
       "      <th>1925020</th>\n",
       "      <td>2018</td>\n",
       "      <td>Amelia</td>\n",
       "      <td>F</td>\n",
       "      <td>12301</td>\n",
       "    </tr>\n",
       "    <tr>\n",
       "      <th>1925021</th>\n",
       "      <td>2018</td>\n",
       "      <td>Harper</td>\n",
       "      <td>F</td>\n",
       "      <td>10582</td>\n",
       "    </tr>\n",
       "    <tr>\n",
       "      <th>1925022</th>\n",
       "      <td>2018</td>\n",
       "      <td>Evelyn</td>\n",
       "      <td>F</td>\n",
       "      <td>10376</td>\n",
       "    </tr>\n",
       "  </tbody>\n",
       "</table>\n",
       "</div>"
      ],
      "text/plain": [
       "         Year       Name Gender  Count\n",
       "1925013  2018       Emma      F  18688\n",
       "1925014  2018     Olivia      F  17921\n",
       "1925015  2018        Ava      F  14924\n",
       "1925016  2018   Isabella      F  14464\n",
       "1925017  2018     Sophia      F  13928\n",
       "1925018  2018  Charlotte      F  12940\n",
       "1925019  2018        Mia      F  12642\n",
       "1925020  2018     Amelia      F  12301\n",
       "1925021  2018     Harper      F  10582\n",
       "1925022  2018     Evelyn      F  10376"
      ]
     },
     "execution_count": 16,
     "metadata": {},
     "output_type": "execute_result"
    }
   ],
   "source": [
    "df_names_2018[df_names_2018['Gender'] == 'F'].nlargest(10,'Count')"
   ]
  },
  {
   "cell_type": "markdown",
   "metadata": {},
   "source": [
    "The most counted male names"
   ]
  },
  {
   "cell_type": "code",
   "execution_count": 17,
   "metadata": {},
   "outputs": [
    {
     "data": {
      "text/html": [
       "<div>\n",
       "<style scoped>\n",
       "    .dataframe tbody tr th:only-of-type {\n",
       "        vertical-align: middle;\n",
       "    }\n",
       "\n",
       "    .dataframe tbody tr th {\n",
       "        vertical-align: top;\n",
       "    }\n",
       "\n",
       "    .dataframe thead th {\n",
       "        text-align: right;\n",
       "    }\n",
       "</style>\n",
       "<table border=\"1\" class=\"dataframe\">\n",
       "  <thead>\n",
       "    <tr style=\"text-align: right;\">\n",
       "      <th></th>\n",
       "      <th>Year</th>\n",
       "      <th>Name</th>\n",
       "      <th>Gender</th>\n",
       "      <th>Count</th>\n",
       "    </tr>\n",
       "  </thead>\n",
       "  <tbody>\n",
       "    <tr>\n",
       "      <th>1943042</th>\n",
       "      <td>2018</td>\n",
       "      <td>Liam</td>\n",
       "      <td>M</td>\n",
       "      <td>19837</td>\n",
       "    </tr>\n",
       "    <tr>\n",
       "      <th>1943043</th>\n",
       "      <td>2018</td>\n",
       "      <td>Noah</td>\n",
       "      <td>M</td>\n",
       "      <td>18267</td>\n",
       "    </tr>\n",
       "    <tr>\n",
       "      <th>1943044</th>\n",
       "      <td>2018</td>\n",
       "      <td>William</td>\n",
       "      <td>M</td>\n",
       "      <td>14516</td>\n",
       "    </tr>\n",
       "    <tr>\n",
       "      <th>1943045</th>\n",
       "      <td>2018</td>\n",
       "      <td>James</td>\n",
       "      <td>M</td>\n",
       "      <td>13525</td>\n",
       "    </tr>\n",
       "    <tr>\n",
       "      <th>1943046</th>\n",
       "      <td>2018</td>\n",
       "      <td>Oliver</td>\n",
       "      <td>M</td>\n",
       "      <td>13389</td>\n",
       "    </tr>\n",
       "    <tr>\n",
       "      <th>1943047</th>\n",
       "      <td>2018</td>\n",
       "      <td>Benjamin</td>\n",
       "      <td>M</td>\n",
       "      <td>13381</td>\n",
       "    </tr>\n",
       "    <tr>\n",
       "      <th>1943048</th>\n",
       "      <td>2018</td>\n",
       "      <td>Elijah</td>\n",
       "      <td>M</td>\n",
       "      <td>12886</td>\n",
       "    </tr>\n",
       "    <tr>\n",
       "      <th>1943049</th>\n",
       "      <td>2018</td>\n",
       "      <td>Lucas</td>\n",
       "      <td>M</td>\n",
       "      <td>12585</td>\n",
       "    </tr>\n",
       "    <tr>\n",
       "      <th>1943050</th>\n",
       "      <td>2018</td>\n",
       "      <td>Mason</td>\n",
       "      <td>M</td>\n",
       "      <td>12435</td>\n",
       "    </tr>\n",
       "    <tr>\n",
       "      <th>1943051</th>\n",
       "      <td>2018</td>\n",
       "      <td>Logan</td>\n",
       "      <td>M</td>\n",
       "      <td>12352</td>\n",
       "    </tr>\n",
       "  </tbody>\n",
       "</table>\n",
       "</div>"
      ],
      "text/plain": [
       "         Year      Name Gender  Count\n",
       "1943042  2018      Liam      M  19837\n",
       "1943043  2018      Noah      M  18267\n",
       "1943044  2018   William      M  14516\n",
       "1943045  2018     James      M  13525\n",
       "1943046  2018    Oliver      M  13389\n",
       "1943047  2018  Benjamin      M  13381\n",
       "1943048  2018    Elijah      M  12886\n",
       "1943049  2018     Lucas      M  12585\n",
       "1943050  2018     Mason      M  12435\n",
       "1943051  2018     Logan      M  12352"
      ]
     },
     "execution_count": 17,
     "metadata": {},
     "output_type": "execute_result"
    }
   ],
   "source": [
    "df_names_2018[df_names_2018['Gender'] == 'M'].nlargest(10,'Count')"
   ]
  },
  {
   "cell_type": "code",
   "execution_count": null,
   "metadata": {},
   "outputs": [],
   "source": [
    "def most_pop(year,gender,n):\n",
    "    conditions = True\n",
    "    conditions &= df['Year']   == year\n",
    "    conditions &= df['Gender'] == gender\n",
    "    return df[conditions].nlargest(n,'Count')"
   ]
  }
 ],
 "metadata": {
  "kernelspec": {
   "display_name": "Python 3",
   "language": "python",
   "name": "python3"
  },
  "language_info": {
   "codemirror_mode": {
    "name": "ipython",
    "version": 3
   },
   "file_extension": ".py",
   "mimetype": "text/x-python",
   "name": "python",
   "nbconvert_exporter": "python",
   "pygments_lexer": "ipython3",
   "version": "3.7.6"
  }
 },
 "nbformat": 4,
 "nbformat_minor": 4
}
